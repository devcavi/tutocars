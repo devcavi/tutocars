{
  "nbformat": 4,
  "nbformat_minor": 0,
  "metadata": {
    "colab": {
      "name": "Exploração de Dados.ipynb",
      "provenance": [],
      "collapsed_sections": []
    },
    "kernelspec": {
      "name": "ir",
      "display_name": "R"
    }
  },
  "cells": [
    {
      "cell_type": "markdown",
      "metadata": {
        "id": "cYdPeIlp5lN2"
      },
      "source": [
        "# Explorando Dados com R\n",
        "\n",
        "Pacotes necessários: `tidyverse` e `dslabs`"
      ]
    },
    {
      "cell_type": "code",
      "metadata": {
        "id": "8mrLkXd9rDub",
        "colab": {
          "base_uri": "https://localhost:8080/"
        },
        "outputId": "cf191bb8-b3a8-4052-9eb0-8c8b1d347b34"
      },
      "source": [
        "install.packages(c(\"tidyverse\", \"dslabs\"))"
      ],
      "execution_count": 1,
      "outputs": [
        {
          "output_type": "stream",
          "text": [
            "Installing packages into ‘/usr/local/lib/R/site-library’\n",
            "(as ‘lib’ is unspecified)\n",
            "\n"
          ],
          "name": "stderr"
        }
      ]
    },
    {
      "cell_type": "code",
      "metadata": {
        "id": "FMxrvS8xkUsM",
        "colab": {
          "base_uri": "https://localhost:8080/"
        },
        "outputId": "14206ba2-f8ad-404f-c0cb-99f1d970ccbf"
      },
      "source": [
        "library(tidyverse)\n",
        "library(dslabs)"
      ],
      "execution_count": 2,
      "outputs": [
        {
          "output_type": "stream",
          "text": [
            "Warning message in system(\"timedatectl\", intern = TRUE):\n",
            "“running command 'timedatectl' had status 1”\n",
            "── \u001b[1mAttaching packages\u001b[22m ─────────────────────────────────────── tidyverse 1.3.0 ──\n",
            "\n",
            "\u001b[32m✔\u001b[39m \u001b[34mggplot2\u001b[39m 3.3.3     \u001b[32m✔\u001b[39m \u001b[34mpurrr  \u001b[39m 0.3.4\n",
            "\u001b[32m✔\u001b[39m \u001b[34mtibble \u001b[39m 3.1.0     \u001b[32m✔\u001b[39m \u001b[34mdplyr  \u001b[39m 1.0.4\n",
            "\u001b[32m✔\u001b[39m \u001b[34mtidyr  \u001b[39m 1.1.3     \u001b[32m✔\u001b[39m \u001b[34mstringr\u001b[39m 1.4.0\n",
            "\u001b[32m✔\u001b[39m \u001b[34mreadr  \u001b[39m 1.4.0     \u001b[32m✔\u001b[39m \u001b[34mforcats\u001b[39m 0.5.1\n",
            "\n",
            "── \u001b[1mConflicts\u001b[22m ────────────────────────────────────────── tidyverse_conflicts() ──\n",
            "\u001b[31m✖\u001b[39m \u001b[34mdplyr\u001b[39m::\u001b[32mfilter()\u001b[39m masks \u001b[34mstats\u001b[39m::filter()\n",
            "\u001b[31m✖\u001b[39m \u001b[34mdplyr\u001b[39m::\u001b[32mlag()\u001b[39m    masks \u001b[34mstats\u001b[39m::lag()\n",
            "\n"
          ],
          "name": "stderr"
        }
      ]
    },
    {
      "cell_type": "markdown",
      "metadata": {
        "id": "NXPCx8x6564Y"
      },
      "source": [
        "Utilizaremos dados existentes na base de dados do pacote `dslabs` para demonstramos algumas funções. Para ver outras bases de dados consulte [este link](https://cran.r-project.org/web/packages/dslabs/dslabs.pdf)."
      ]
    },
    {
      "cell_type": "code",
      "metadata": {
        "id": "vwpTJGImkw_3"
      },
      "source": [
        "data(murders)"
      ],
      "execution_count": 3,
      "outputs": []
    },
    {
      "cell_type": "markdown",
      "metadata": {
        "id": "PdOou6oP6sBB"
      },
      "source": [
        "Para consultar o tipo de dado:"
      ]
    },
    {
      "cell_type": "code",
      "metadata": {
        "id": "HyWzi3i-lQ9m",
        "colab": {
          "base_uri": "https://localhost:8080/",
          "height": 34
        },
        "outputId": "1b883cec-6450-4240-e867-234cb301ac85"
      },
      "source": [
        "class(murders)"
      ],
      "execution_count": 4,
      "outputs": [
        {
          "output_type": "display_data",
          "data": {
            "text/plain": [
              "[1] \"data.frame\""
            ],
            "text/latex": "'data.frame'",
            "text/markdown": "'data.frame'",
            "text/html": [
              "'data.frame'"
            ]
          },
          "metadata": {
            "tags": []
          }
        }
      ]
    },
    {
      "cell_type": "code",
      "metadata": {
        "colab": {
          "base_uri": "https://localhost:8080/",
          "height": 34
        },
        "id": "mnB229T4c-3b",
        "outputId": "8cf1fda4-cb33-4d5f-c440-11ed20f64e01"
      },
      "source": [
        "v <- 5.0\n",
        "class(v)"
      ],
      "execution_count": 5,
      "outputs": [
        {
          "output_type": "display_data",
          "data": {
            "text/plain": [
              "[1] \"numeric\""
            ],
            "text/latex": "'numeric'",
            "text/markdown": "'numeric'",
            "text/html": [
              "'numeric'"
            ]
          },
          "metadata": {
            "tags": []
          }
        }
      ]
    },
    {
      "cell_type": "markdown",
      "metadata": {
        "id": "ClmeJXy763Q1"
      },
      "source": [
        "Para visualizar a estrutura dos dados ou consultar de que se tratam os dados:"
      ]
    },
    {
      "cell_type": "code",
      "metadata": {
        "id": "XsaYBCtkpOgL",
        "colab": {
          "base_uri": "https://localhost:8080/"
        },
        "outputId": "ed8c3e83-8d70-4897-9e78-0fece8540885"
      },
      "source": [
        "str(murders)"
      ],
      "execution_count": 6,
      "outputs": [
        {
          "output_type": "stream",
          "text": [
            "'data.frame':\t51 obs. of  5 variables:\n",
            " $ state     : chr  \"Alabama\" \"Alaska\" \"Arizona\" \"Arkansas\" ...\n",
            " $ abb       : chr  \"AL\" \"AK\" \"AZ\" \"AR\" ...\n",
            " $ region    : Factor w/ 4 levels \"Northeast\",\"South\",..: 2 4 4 2 4 4 1 2 2 2 ...\n",
            " $ population: num  4779736 710231 6392017 2915918 37253956 ...\n",
            " $ total     : num  135 19 232 93 1257 ...\n"
          ],
          "name": "stdout"
        }
      ]
    },
    {
      "cell_type": "code",
      "metadata": {
        "id": "MKCWgKuG6vtO"
      },
      "source": [
        "help(murders)"
      ],
      "execution_count": 7,
      "outputs": []
    },
    {
      "cell_type": "markdown",
      "metadata": {
        "id": "EdzJmfc78Ahk"
      },
      "source": [
        "Para visualizar o cabeçalho utilize `head`"
      ]
    },
    {
      "cell_type": "code",
      "metadata": {
        "id": "6NEp4mi5sYhM",
        "colab": {
          "base_uri": "https://localhost:8080/",
          "height": 271
        },
        "outputId": "e83225d7-e344-4e37-a960-8b8cc4460f78"
      },
      "source": [
        "head(murders)"
      ],
      "execution_count": 8,
      "outputs": [
        {
          "output_type": "display_data",
          "data": {
            "text/plain": [
              "  state      abb region population total\n",
              "1 Alabama    AL  South   4779736    135 \n",
              "2 Alaska     AK  West     710231     19 \n",
              "3 Arizona    AZ  West    6392017    232 \n",
              "4 Arkansas   AR  South   2915918     93 \n",
              "5 California CA  West   37253956   1257 \n",
              "6 Colorado   CO  West    5029196     65 "
            ],
            "text/latex": "A data.frame: 6 × 5\n\\begin{tabular}{r|lllll}\n  & state & abb & region & population & total\\\\\n  & <chr> & <chr> & <fct> & <dbl> & <dbl>\\\\\n\\hline\n\t1 & Alabama    & AL & South &  4779736 &  135\\\\\n\t2 & Alaska     & AK & West  &   710231 &   19\\\\\n\t3 & Arizona    & AZ & West  &  6392017 &  232\\\\\n\t4 & Arkansas   & AR & South &  2915918 &   93\\\\\n\t5 & California & CA & West  & 37253956 & 1257\\\\\n\t6 & Colorado   & CO & West  &  5029196 &   65\\\\\n\\end{tabular}\n",
            "text/markdown": "\nA data.frame: 6 × 5\n\n| <!--/--> | state &lt;chr&gt; | abb &lt;chr&gt; | region &lt;fct&gt; | population &lt;dbl&gt; | total &lt;dbl&gt; |\n|---|---|---|---|---|---|\n| 1 | Alabama    | AL | South |  4779736 |  135 |\n| 2 | Alaska     | AK | West  |   710231 |   19 |\n| 3 | Arizona    | AZ | West  |  6392017 |  232 |\n| 4 | Arkansas   | AR | South |  2915918 |   93 |\n| 5 | California | CA | West  | 37253956 | 1257 |\n| 6 | Colorado   | CO | West  |  5029196 |   65 |\n\n",
            "text/html": [
              "<table class=\"dataframe\">\n",
              "<caption>A data.frame: 6 × 5</caption>\n",
              "<thead>\n",
              "\t<tr><th></th><th scope=col>state</th><th scope=col>abb</th><th scope=col>region</th><th scope=col>population</th><th scope=col>total</th></tr>\n",
              "\t<tr><th></th><th scope=col>&lt;chr&gt;</th><th scope=col>&lt;chr&gt;</th><th scope=col>&lt;fct&gt;</th><th scope=col>&lt;dbl&gt;</th><th scope=col>&lt;dbl&gt;</th></tr>\n",
              "</thead>\n",
              "<tbody>\n",
              "\t<tr><th scope=row>1</th><td>Alabama   </td><td>AL</td><td>South</td><td> 4779736</td><td> 135</td></tr>\n",
              "\t<tr><th scope=row>2</th><td>Alaska    </td><td>AK</td><td>West </td><td>  710231</td><td>  19</td></tr>\n",
              "\t<tr><th scope=row>3</th><td>Arizona   </td><td>AZ</td><td>West </td><td> 6392017</td><td> 232</td></tr>\n",
              "\t<tr><th scope=row>4</th><td>Arkansas  </td><td>AR</td><td>South</td><td> 2915918</td><td>  93</td></tr>\n",
              "\t<tr><th scope=row>5</th><td>California</td><td>CA</td><td>West </td><td>37253956</td><td>1257</td></tr>\n",
              "\t<tr><th scope=row>6</th><td>Colorado  </td><td>CO</td><td>West </td><td> 5029196</td><td>  65</td></tr>\n",
              "</tbody>\n",
              "</table>\n"
            ]
          },
          "metadata": {
            "tags": []
          }
        }
      ]
    },
    {
      "cell_type": "code",
      "metadata": {
        "id": "Q-IPz-iMd36g"
      },
      "source": [
        "murders"
      ],
      "execution_count": null,
      "outputs": []
    },
    {
      "cell_type": "markdown",
      "metadata": {
        "id": "XGn4seyS8Gzk"
      },
      "source": [
        "Dessa forma é possível trabalhar com cada dimensão separadamente, utilizando `$`:"
      ]
    },
    {
      "cell_type": "code",
      "metadata": {
        "id": "EdaWfX_6sxBe",
        "colab": {
          "base_uri": "https://localhost:8080/",
          "height": 101
        },
        "outputId": "f0d83987-414e-4081-ef98-f7e2eaee6995"
      },
      "source": [
        "murders$population"
      ],
      "execution_count": 10,
      "outputs": [
        {
          "output_type": "display_data",
          "data": {
            "text/plain": [
              " [1]  4779736   710231  6392017  2915918 37253956  5029196  3574097   897934\n",
              " [9]   601723 19687653  9920000  1360301  1567582 12830632  6483802  3046355\n",
              "[17]  2853118  4339367  4533372  1328361  5773552  6547629  9883640  5303925\n",
              "[25]  2967297  5988927   989415  1826341  2700551  1316470  8791894  2059179\n",
              "[33] 19378102  9535483   672591 11536504  3751351  3831074 12702379  1052567\n",
              "[41]  4625364   814180  6346105 25145561  2763885   625741  8001024  6724540\n",
              "[49]  1852994  5686986   563626"
            ],
            "text/latex": "\\begin{enumerate*}\n\\item 4779736\n\\item 710231\n\\item 6392017\n\\item 2915918\n\\item 37253956\n\\item 5029196\n\\item 3574097\n\\item 897934\n\\item 601723\n\\item 19687653\n\\item 9920000\n\\item 1360301\n\\item 1567582\n\\item 12830632\n\\item 6483802\n\\item 3046355\n\\item 2853118\n\\item 4339367\n\\item 4533372\n\\item 1328361\n\\item 5773552\n\\item 6547629\n\\item 9883640\n\\item 5303925\n\\item 2967297\n\\item 5988927\n\\item 989415\n\\item 1826341\n\\item 2700551\n\\item 1316470\n\\item 8791894\n\\item 2059179\n\\item 19378102\n\\item 9535483\n\\item 672591\n\\item 11536504\n\\item 3751351\n\\item 3831074\n\\item 12702379\n\\item 1052567\n\\item 4625364\n\\item 814180\n\\item 6346105\n\\item 25145561\n\\item 2763885\n\\item 625741\n\\item 8001024\n\\item 6724540\n\\item 1852994\n\\item 5686986\n\\item 563626\n\\end{enumerate*}\n",
            "text/markdown": "1. 4779736\n2. 710231\n3. 6392017\n4. 2915918\n5. 37253956\n6. 5029196\n7. 3574097\n8. 897934\n9. 601723\n10. 19687653\n11. 9920000\n12. 1360301\n13. 1567582\n14. 12830632\n15. 6483802\n16. 3046355\n17. 2853118\n18. 4339367\n19. 4533372\n20. 1328361\n21. 5773552\n22. 6547629\n23. 9883640\n24. 5303925\n25. 2967297\n26. 5988927\n27. 989415\n28. 1826341\n29. 2700551\n30. 1316470\n31. 8791894\n32. 2059179\n33. 19378102\n34. 9535483\n35. 672591\n36. 11536504\n37. 3751351\n38. 3831074\n39. 12702379\n40. 1052567\n41. 4625364\n42. 814180\n43. 6346105\n44. 25145561\n45. 2763885\n46. 625741\n47. 8001024\n48. 6724540\n49. 1852994\n50. 5686986\n51. 563626\n\n\n",
            "text/html": [
              "<style>\n",
              ".list-inline {list-style: none; margin:0; padding: 0}\n",
              ".list-inline>li {display: inline-block}\n",
              ".list-inline>li:not(:last-child)::after {content: \"\\00b7\"; padding: 0 .5ex}\n",
              "</style>\n",
              "<ol class=list-inline><li>4779736</li><li>710231</li><li>6392017</li><li>2915918</li><li>37253956</li><li>5029196</li><li>3574097</li><li>897934</li><li>601723</li><li>19687653</li><li>9920000</li><li>1360301</li><li>1567582</li><li>12830632</li><li>6483802</li><li>3046355</li><li>2853118</li><li>4339367</li><li>4533372</li><li>1328361</li><li>5773552</li><li>6547629</li><li>9883640</li><li>5303925</li><li>2967297</li><li>5988927</li><li>989415</li><li>1826341</li><li>2700551</li><li>1316470</li><li>8791894</li><li>2059179</li><li>19378102</li><li>9535483</li><li>672591</li><li>11536504</li><li>3751351</li><li>3831074</li><li>12702379</li><li>1052567</li><li>4625364</li><li>814180</li><li>6346105</li><li>25145561</li><li>2763885</li><li>625741</li><li>8001024</li><li>6724540</li><li>1852994</li><li>5686986</li><li>563626</li></ol>\n"
            ]
          },
          "metadata": {
            "tags": []
          }
        }
      ]
    },
    {
      "cell_type": "markdown",
      "metadata": {
        "id": "46kCFQEn8Vjh"
      },
      "source": [
        "Para saber os nomes de cada dimensão utilize `names`"
      ]
    },
    {
      "cell_type": "code",
      "metadata": {
        "id": "0u3XMW9us33u",
        "colab": {
          "base_uri": "https://localhost:8080/",
          "height": 34
        },
        "outputId": "c9bc7e6e-5082-47f4-ea44-70fc52546239"
      },
      "source": [
        "names(murders)"
      ],
      "execution_count": 11,
      "outputs": [
        {
          "output_type": "display_data",
          "data": {
            "text/plain": [
              "[1] \"state\"      \"abb\"        \"region\"     \"population\" \"total\"     "
            ],
            "text/latex": "\\begin{enumerate*}\n\\item 'state'\n\\item 'abb'\n\\item 'region'\n\\item 'population'\n\\item 'total'\n\\end{enumerate*}\n",
            "text/markdown": "1. 'state'\n2. 'abb'\n3. 'region'\n4. 'population'\n5. 'total'\n\n\n",
            "text/html": [
              "<style>\n",
              ".list-inline {list-style: none; margin:0; padding: 0}\n",
              ".list-inline>li {display: inline-block}\n",
              ".list-inline>li:not(:last-child)::after {content: \"\\00b7\"; padding: 0 .5ex}\n",
              "</style>\n",
              "<ol class=list-inline><li>'state'</li><li>'abb'</li><li>'region'</li><li>'population'</li><li>'total'</li></ol>\n"
            ]
          },
          "metadata": {
            "tags": []
          }
        }
      ]
    },
    {
      "cell_type": "code",
      "metadata": {
        "id": "2Sufti2Js-oH"
      },
      "source": [
        "pop <- murders$population\n",
        "reg <- murders$region"
      ],
      "execution_count": 12,
      "outputs": []
    },
    {
      "cell_type": "code",
      "metadata": {
        "id": "bDp_eA4UtAr4",
        "colab": {
          "base_uri": "https://localhost:8080/",
          "height": 34
        },
        "outputId": "98758c30-f928-43eb-d23a-a3cd119bc158"
      },
      "source": [
        "length(pop)"
      ],
      "execution_count": 13,
      "outputs": [
        {
          "output_type": "display_data",
          "data": {
            "text/plain": [
              "[1] 51"
            ],
            "text/latex": "51",
            "text/markdown": "51",
            "text/html": [
              "51"
            ]
          },
          "metadata": {
            "tags": []
          }
        }
      ]
    },
    {
      "cell_type": "code",
      "metadata": {
        "id": "XfovzHDutEVI",
        "colab": {
          "base_uri": "https://localhost:8080/",
          "height": 67
        },
        "outputId": "300fb8a5-ee39-4e67-a13d-44edc0ddb53c"
      },
      "source": [
        "class(pop)\n",
        "class(reg)\n",
        "class(murders$state)"
      ],
      "execution_count": 15,
      "outputs": [
        {
          "output_type": "display_data",
          "data": {
            "text/plain": [
              "[1] \"numeric\""
            ],
            "text/latex": "'numeric'",
            "text/markdown": "'numeric'",
            "text/html": [
              "'numeric'"
            ]
          },
          "metadata": {
            "tags": []
          }
        },
        {
          "output_type": "display_data",
          "data": {
            "text/plain": [
              "[1] \"factor\""
            ],
            "text/latex": "'factor'",
            "text/markdown": "'factor'",
            "text/html": [
              "'factor'"
            ]
          },
          "metadata": {
            "tags": []
          }
        },
        {
          "output_type": "display_data",
          "data": {
            "text/plain": [
              "[1] \"character\""
            ],
            "text/latex": "'character'",
            "text/markdown": "'character'",
            "text/html": [
              "'character'"
            ]
          },
          "metadata": {
            "tags": []
          }
        }
      ]
    },
    {
      "cell_type": "code",
      "metadata": {
        "id": "VmbCXrRCtqT8",
        "colab": {
          "base_uri": "https://localhost:8080/",
          "height": 134
        },
        "outputId": "99740aec-e2e9-465f-9a41-f94463453e1c"
      },
      "source": [
        "reg"
      ],
      "execution_count": 16,
      "outputs": [
        {
          "output_type": "display_data",
          "data": {
            "text/plain": [
              " [1] South         West          West          South         West         \n",
              " [6] West          Northeast     South         South         South        \n",
              "[11] South         West          West          North Central North Central\n",
              "[16] North Central North Central South         South         Northeast    \n",
              "[21] South         Northeast     North Central North Central South        \n",
              "[26] North Central West          North Central West          Northeast    \n",
              "[31] Northeast     West          Northeast     South         North Central\n",
              "[36] North Central South         West          Northeast     Northeast    \n",
              "[41] South         North Central South         South         West         \n",
              "[46] Northeast     South         West          South         North Central\n",
              "[51] West         \n",
              "Levels: Northeast South North Central West"
            ],
            "text/latex": "\\begin{enumerate*}\n\\item South\n\\item West\n\\item West\n\\item South\n\\item West\n\\item West\n\\item Northeast\n\\item South\n\\item South\n\\item South\n\\item South\n\\item West\n\\item West\n\\item North Central\n\\item North Central\n\\item North Central\n\\item North Central\n\\item South\n\\item South\n\\item Northeast\n\\item South\n\\item Northeast\n\\item North Central\n\\item North Central\n\\item South\n\\item North Central\n\\item West\n\\item North Central\n\\item West\n\\item Northeast\n\\item Northeast\n\\item West\n\\item Northeast\n\\item South\n\\item North Central\n\\item North Central\n\\item South\n\\item West\n\\item Northeast\n\\item Northeast\n\\item South\n\\item North Central\n\\item South\n\\item South\n\\item West\n\\item Northeast\n\\item South\n\\item West\n\\item South\n\\item North Central\n\\item West\n\\end{enumerate*}\n\n\\emph{Levels}: \\begin{enumerate*}\n\\item 'Northeast'\n\\item 'South'\n\\item 'North Central'\n\\item 'West'\n\\end{enumerate*}\n",
            "text/markdown": "1. South\n2. West\n3. West\n4. South\n5. West\n6. West\n7. Northeast\n8. South\n9. South\n10. South\n11. South\n12. West\n13. West\n14. North Central\n15. North Central\n16. North Central\n17. North Central\n18. South\n19. South\n20. Northeast\n21. South\n22. Northeast\n23. North Central\n24. North Central\n25. South\n26. North Central\n27. West\n28. North Central\n29. West\n30. Northeast\n31. Northeast\n32. West\n33. Northeast\n34. South\n35. North Central\n36. North Central\n37. South\n38. West\n39. Northeast\n40. Northeast\n41. South\n42. North Central\n43. South\n44. South\n45. West\n46. Northeast\n47. South\n48. West\n49. South\n50. North Central\n51. West\n\n\n\n**Levels**: 1. 'Northeast'\n2. 'South'\n3. 'North Central'\n4. 'West'\n\n\n",
            "text/html": [
              "<style>\n",
              ".list-inline {list-style: none; margin:0; padding: 0}\n",
              ".list-inline>li {display: inline-block}\n",
              ".list-inline>li:not(:last-child)::after {content: \"\\00b7\"; padding: 0 .5ex}\n",
              "</style>\n",
              "<ol class=list-inline><li>South</li><li>West</li><li>West</li><li>South</li><li>West</li><li>West</li><li>Northeast</li><li>South</li><li>South</li><li>South</li><li>South</li><li>West</li><li>West</li><li>North Central</li><li>North Central</li><li>North Central</li><li>North Central</li><li>South</li><li>South</li><li>Northeast</li><li>South</li><li>Northeast</li><li>North Central</li><li>North Central</li><li>South</li><li>North Central</li><li>West</li><li>North Central</li><li>West</li><li>Northeast</li><li>Northeast</li><li>West</li><li>Northeast</li><li>South</li><li>North Central</li><li>North Central</li><li>South</li><li>West</li><li>Northeast</li><li>Northeast</li><li>South</li><li>North Central</li><li>South</li><li>South</li><li>West</li><li>Northeast</li><li>South</li><li>West</li><li>South</li><li>North Central</li><li>West</li></ol>\n",
              "\n",
              "<details>\n",
              "\t<summary style=display:list-item;cursor:pointer>\n",
              "\t\t<strong>Levels</strong>:\n",
              "\t</summary>\n",
              "\t<style>\n",
              "\t.list-inline {list-style: none; margin:0; padding: 0}\n",
              "\t.list-inline>li {display: inline-block}\n",
              "\t.list-inline>li:not(:last-child)::after {content: \"\\00b7\"; padding: 0 .5ex}\n",
              "\t</style>\n",
              "\t<ol class=list-inline><li>'Northeast'</li><li>'South'</li><li>'North Central'</li><li>'West'</li></ol>\n",
              "</details>"
            ]
          },
          "metadata": {
            "tags": []
          }
        }
      ]
    },
    {
      "cell_type": "markdown",
      "metadata": {
        "id": "TixEs0cWt6ph"
      },
      "source": [
        "Podemos utilizar `reorder` para ordenar os dados de acordo com um determinado valor e separá-los do menor para maior utilizando `levels`."
      ]
    },
    {
      "cell_type": "code",
      "metadata": {
        "id": "CW2Ke_hstm8M",
        "colab": {
          "base_uri": "https://localhost:8080/",
          "height": 134
        },
        "outputId": "004afcf4-1774-4812-e182-9234f8053875"
      },
      "source": [
        "value <- murders$total\n",
        "reg <- reorder(reg, value, FUN = sum)\n",
        "reg\n",
        "levels(reg)"
      ],
      "execution_count": 17,
      "outputs": [
        {
          "output_type": "display_data",
          "data": {
            "text/plain": [
              " [1] South         West          West          South         West         \n",
              " [6] West          Northeast     South         South         South        \n",
              "[11] South         West          West          North Central North Central\n",
              "[16] North Central North Central South         South         Northeast    \n",
              "[21] South         Northeast     North Central North Central South        \n",
              "[26] North Central West          North Central West          Northeast    \n",
              "[31] Northeast     West          Northeast     South         North Central\n",
              "[36] North Central South         West          Northeast     Northeast    \n",
              "[41] South         North Central South         South         West         \n",
              "[46] Northeast     South         West          South         North Central\n",
              "[51] West         \n",
              "attr(,\"scores\")\n",
              "    Northeast         South North Central          West \n",
              "         1469          4195          1828          1911 \n",
              "Levels: Northeast North Central West South"
            ],
            "text/latex": "\\begin{enumerate*}\n\\item South\n\\item West\n\\item West\n\\item South\n\\item West\n\\item West\n\\item Northeast\n\\item South\n\\item South\n\\item South\n\\item South\n\\item West\n\\item West\n\\item North Central\n\\item North Central\n\\item North Central\n\\item North Central\n\\item South\n\\item South\n\\item Northeast\n\\item South\n\\item Northeast\n\\item North Central\n\\item North Central\n\\item South\n\\item North Central\n\\item West\n\\item North Central\n\\item West\n\\item Northeast\n\\item Northeast\n\\item West\n\\item Northeast\n\\item South\n\\item North Central\n\\item North Central\n\\item South\n\\item West\n\\item Northeast\n\\item Northeast\n\\item South\n\\item North Central\n\\item South\n\\item South\n\\item West\n\\item Northeast\n\\item South\n\\item West\n\\item South\n\\item North Central\n\\item West\n\\end{enumerate*}\n\n\\emph{Levels}: \\begin{enumerate*}\n\\item 'Northeast'\n\\item 'North Central'\n\\item 'West'\n\\item 'South'\n\\end{enumerate*}\n",
            "text/markdown": "1. South\n2. West\n3. West\n4. South\n5. West\n6. West\n7. Northeast\n8. South\n9. South\n10. South\n11. South\n12. West\n13. West\n14. North Central\n15. North Central\n16. North Central\n17. North Central\n18. South\n19. South\n20. Northeast\n21. South\n22. Northeast\n23. North Central\n24. North Central\n25. South\n26. North Central\n27. West\n28. North Central\n29. West\n30. Northeast\n31. Northeast\n32. West\n33. Northeast\n34. South\n35. North Central\n36. North Central\n37. South\n38. West\n39. Northeast\n40. Northeast\n41. South\n42. North Central\n43. South\n44. South\n45. West\n46. Northeast\n47. South\n48. West\n49. South\n50. North Central\n51. West\n\n\n\n**Levels**: 1. 'Northeast'\n2. 'North Central'\n3. 'West'\n4. 'South'\n\n\n",
            "text/html": [
              "<style>\n",
              ".list-inline {list-style: none; margin:0; padding: 0}\n",
              ".list-inline>li {display: inline-block}\n",
              ".list-inline>li:not(:last-child)::after {content: \"\\00b7\"; padding: 0 .5ex}\n",
              "</style>\n",
              "<ol class=list-inline><li>South</li><li>West</li><li>West</li><li>South</li><li>West</li><li>West</li><li>Northeast</li><li>South</li><li>South</li><li>South</li><li>South</li><li>West</li><li>West</li><li>North Central</li><li>North Central</li><li>North Central</li><li>North Central</li><li>South</li><li>South</li><li>Northeast</li><li>South</li><li>Northeast</li><li>North Central</li><li>North Central</li><li>South</li><li>North Central</li><li>West</li><li>North Central</li><li>West</li><li>Northeast</li><li>Northeast</li><li>West</li><li>Northeast</li><li>South</li><li>North Central</li><li>North Central</li><li>South</li><li>West</li><li>Northeast</li><li>Northeast</li><li>South</li><li>North Central</li><li>South</li><li>South</li><li>West</li><li>Northeast</li><li>South</li><li>West</li><li>South</li><li>North Central</li><li>West</li></ol>\n",
              "\n",
              "<details>\n",
              "\t<summary style=display:list-item;cursor:pointer>\n",
              "\t\t<strong>Levels</strong>:\n",
              "\t</summary>\n",
              "\t<style>\n",
              "\t.list-inline {list-style: none; margin:0; padding: 0}\n",
              "\t.list-inline>li {display: inline-block}\n",
              "\t.list-inline>li:not(:last-child)::after {content: \"\\00b7\"; padding: 0 .5ex}\n",
              "\t</style>\n",
              "\t<ol class=list-inline><li>'Northeast'</li><li>'North Central'</li><li>'West'</li><li>'South'</li></ol>\n",
              "</details>"
            ]
          },
          "metadata": {
            "tags": []
          }
        },
        {
          "output_type": "display_data",
          "data": {
            "text/plain": [
              "[1] \"Northeast\"     \"North Central\" \"West\"          \"South\"        "
            ],
            "text/latex": "\\begin{enumerate*}\n\\item 'Northeast'\n\\item 'North Central'\n\\item 'West'\n\\item 'South'\n\\end{enumerate*}\n",
            "text/markdown": "1. 'Northeast'\n2. 'North Central'\n3. 'West'\n4. 'South'\n\n\n",
            "text/html": [
              "<style>\n",
              ".list-inline {list-style: none; margin:0; padding: 0}\n",
              ".list-inline>li {display: inline-block}\n",
              ".list-inline>li:not(:last-child)::after {content: \"\\00b7\"; padding: 0 .5ex}\n",
              "</style>\n",
              "<ol class=list-inline><li>'Northeast'</li><li>'North Central'</li><li>'West'</li><li>'South'</li></ol>\n"
            ]
          },
          "metadata": {
            "tags": []
          }
        }
      ]
    },
    {
      "cell_type": "markdown",
      "metadata": {
        "id": "56OScRd69FYQ"
      },
      "source": [
        "Pode-se também usar `sort` para ordenação."
      ]
    },
    {
      "cell_type": "code",
      "metadata": {
        "id": "IwaJBSRPuD0R",
        "colab": {
          "base_uri": "https://localhost:8080/",
          "height": 67
        },
        "outputId": "a8d8f1fe-5818-48f9-8e00-953dd9b275c9"
      },
      "source": [
        "sort(murders$total)"
      ],
      "execution_count": 18,
      "outputs": [
        {
          "output_type": "display_data",
          "data": {
            "text/plain": [
              " [1]    2    4    5    5    7    8   11   12   12   16   19   21   22   27   32\n",
              "[16]   36   38   53   63   65   67   84   93   93   97   97   99  111  116  118\n",
              "[31]  120  135  142  207  219  232  246  250  286  293  310  321  351  364  376\n",
              "[46]  413  457  517  669  805 1257"
            ],
            "text/latex": "\\begin{enumerate*}\n\\item 2\n\\item 4\n\\item 5\n\\item 5\n\\item 7\n\\item 8\n\\item 11\n\\item 12\n\\item 12\n\\item 16\n\\item 19\n\\item 21\n\\item 22\n\\item 27\n\\item 32\n\\item 36\n\\item 38\n\\item 53\n\\item 63\n\\item 65\n\\item 67\n\\item 84\n\\item 93\n\\item 93\n\\item 97\n\\item 97\n\\item 99\n\\item 111\n\\item 116\n\\item 118\n\\item 120\n\\item 135\n\\item 142\n\\item 207\n\\item 219\n\\item 232\n\\item 246\n\\item 250\n\\item 286\n\\item 293\n\\item 310\n\\item 321\n\\item 351\n\\item 364\n\\item 376\n\\item 413\n\\item 457\n\\item 517\n\\item 669\n\\item 805\n\\item 1257\n\\end{enumerate*}\n",
            "text/markdown": "1. 2\n2. 4\n3. 5\n4. 5\n5. 7\n6. 8\n7. 11\n8. 12\n9. 12\n10. 16\n11. 19\n12. 21\n13. 22\n14. 27\n15. 32\n16. 36\n17. 38\n18. 53\n19. 63\n20. 65\n21. 67\n22. 84\n23. 93\n24. 93\n25. 97\n26. 97\n27. 99\n28. 111\n29. 116\n30. 118\n31. 120\n32. 135\n33. 142\n34. 207\n35. 219\n36. 232\n37. 246\n38. 250\n39. 286\n40. 293\n41. 310\n42. 321\n43. 351\n44. 364\n45. 376\n46. 413\n47. 457\n48. 517\n49. 669\n50. 805\n51. 1257\n\n\n",
            "text/html": [
              "<style>\n",
              ".list-inline {list-style: none; margin:0; padding: 0}\n",
              ".list-inline>li {display: inline-block}\n",
              ".list-inline>li:not(:last-child)::after {content: \"\\00b7\"; padding: 0 .5ex}\n",
              "</style>\n",
              "<ol class=list-inline><li>2</li><li>4</li><li>5</li><li>5</li><li>7</li><li>8</li><li>11</li><li>12</li><li>12</li><li>16</li><li>19</li><li>21</li><li>22</li><li>27</li><li>32</li><li>36</li><li>38</li><li>53</li><li>63</li><li>65</li><li>67</li><li>84</li><li>93</li><li>93</li><li>97</li><li>97</li><li>99</li><li>111</li><li>116</li><li>118</li><li>120</li><li>135</li><li>142</li><li>207</li><li>219</li><li>232</li><li>246</li><li>250</li><li>286</li><li>293</li><li>310</li><li>321</li><li>351</li><li>364</li><li>376</li><li>413</li><li>457</li><li>517</li><li>669</li><li>805</li><li>1257</li></ol>\n"
            ]
          },
          "metadata": {
            "tags": []
          }
        }
      ]
    },
    {
      "cell_type": "markdown",
      "metadata": {
        "id": "8nYirbtg9KUI"
      },
      "source": [
        "Pode-se selecionar um subset do dados usando operador colchetes"
      ]
    },
    {
      "cell_type": "code",
      "metadata": {
        "id": "OAxeZiHvuvXb",
        "colab": {
          "base_uri": "https://localhost:8080/",
          "height": 34
        },
        "outputId": "df0610a6-98b1-463d-e5e6-24bf2e6eac4e"
      },
      "source": [
        "murders$state[1:6]"
      ],
      "execution_count": 21,
      "outputs": [
        {
          "output_type": "display_data",
          "data": {
            "text/plain": [
              "[1] \"Alabama\"    \"Alaska\"     \"Arizona\"    \"Arkansas\"   \"California\"\n",
              "[6] \"Colorado\"  "
            ],
            "text/latex": "\\begin{enumerate*}\n\\item 'Alabama'\n\\item 'Alaska'\n\\item 'Arizona'\n\\item 'Arkansas'\n\\item 'California'\n\\item 'Colorado'\n\\end{enumerate*}\n",
            "text/markdown": "1. 'Alabama'\n2. 'Alaska'\n3. 'Arizona'\n4. 'Arkansas'\n5. 'California'\n6. 'Colorado'\n\n\n",
            "text/html": [
              "<style>\n",
              ".list-inline {list-style: none; margin:0; padding: 0}\n",
              ".list-inline>li {display: inline-block}\n",
              ".list-inline>li:not(:last-child)::after {content: \"\\00b7\"; padding: 0 .5ex}\n",
              "</style>\n",
              "<ol class=list-inline><li>'Alabama'</li><li>'Alaska'</li><li>'Arizona'</li><li>'Arkansas'</li><li>'California'</li><li>'Colorado'</li></ol>\n"
            ]
          },
          "metadata": {
            "tags": []
          }
        }
      ]
    },
    {
      "cell_type": "markdown",
      "metadata": {
        "id": "KP0K2sW29bUC"
      },
      "source": [
        "Um determinado valor máximo pode ser facilmente adquirido usando `max`"
      ]
    },
    {
      "cell_type": "code",
      "metadata": {
        "id": "IsIeRpC9u1Tz",
        "colab": {
          "base_uri": "https://localhost:8080/",
          "height": 34
        },
        "outputId": "c3b08ec0-e957-4d75-db97-333d26679cbb"
      },
      "source": [
        "max(murders$total)"
      ],
      "execution_count": 22,
      "outputs": [
        {
          "output_type": "display_data",
          "data": {
            "text/plain": [
              "[1] 1257"
            ],
            "text/latex": "1257",
            "text/markdown": "1257",
            "text/html": [
              "1257"
            ]
          },
          "metadata": {
            "tags": []
          }
        }
      ]
    },
    {
      "cell_type": "markdown",
      "metadata": {
        "id": "Awi_T-eL9vb7"
      },
      "source": [
        "Assim como podemos encontrar o índice onde algo acontece usando `which`"
      ]
    },
    {
      "cell_type": "code",
      "metadata": {
        "id": "flqBopvAu5pq",
        "colab": {
          "base_uri": "https://localhost:8080/",
          "height": 34
        },
        "outputId": "5be842aa-0045-4f5f-fb26-d717c3fa95e8"
      },
      "source": [
        "i_max <- which.max(murders$total)\n",
        "murders$state[i_max]"
      ],
      "execution_count": 23,
      "outputs": [
        {
          "output_type": "display_data",
          "data": {
            "text/plain": [
              "[1] \"California\""
            ],
            "text/latex": "'California'",
            "text/markdown": "'California'",
            "text/html": [
              "'California'"
            ]
          },
          "metadata": {
            "tags": []
          }
        }
      ]
    },
    {
      "cell_type": "code",
      "metadata": {
        "id": "1fRE75ip9i6A",
        "colab": {
          "base_uri": "https://localhost:8080/",
          "height": 67
        },
        "outputId": "54b45f42-b7ec-4881-bb8c-c0d28ec9308b"
      },
      "source": [
        "i_west <- which(murders$region==\"West\")\n",
        "i_west\n",
        "murders$state[i_west]"
      ],
      "execution_count": 25,
      "outputs": [
        {
          "output_type": "display_data",
          "data": {
            "text/plain": [
              " [1]  2  3  5  6 12 13 27 29 32 38 45 48 51"
            ],
            "text/latex": "\\begin{enumerate*}\n\\item 2\n\\item 3\n\\item 5\n\\item 6\n\\item 12\n\\item 13\n\\item 27\n\\item 29\n\\item 32\n\\item 38\n\\item 45\n\\item 48\n\\item 51\n\\end{enumerate*}\n",
            "text/markdown": "1. 2\n2. 3\n3. 5\n4. 6\n5. 12\n6. 13\n7. 27\n8. 29\n9. 32\n10. 38\n11. 45\n12. 48\n13. 51\n\n\n",
            "text/html": [
              "<style>\n",
              ".list-inline {list-style: none; margin:0; padding: 0}\n",
              ".list-inline>li {display: inline-block}\n",
              ".list-inline>li:not(:last-child)::after {content: \"\\00b7\"; padding: 0 .5ex}\n",
              "</style>\n",
              "<ol class=list-inline><li>2</li><li>3</li><li>5</li><li>6</li><li>12</li><li>13</li><li>27</li><li>29</li><li>32</li><li>38</li><li>45</li><li>48</li><li>51</li></ol>\n"
            ]
          },
          "metadata": {
            "tags": []
          }
        },
        {
          "output_type": "display_data",
          "data": {
            "text/plain": [
              " [1] \"Alaska\"     \"Arizona\"    \"California\" \"Colorado\"   \"Hawaii\"    \n",
              " [6] \"Idaho\"      \"Montana\"    \"Nevada\"     \"New Mexico\" \"Oregon\"    \n",
              "[11] \"Utah\"       \"Washington\" \"Wyoming\"   "
            ],
            "text/latex": "\\begin{enumerate*}\n\\item 'Alaska'\n\\item 'Arizona'\n\\item 'California'\n\\item 'Colorado'\n\\item 'Hawaii'\n\\item 'Idaho'\n\\item 'Montana'\n\\item 'Nevada'\n\\item 'New Mexico'\n\\item 'Oregon'\n\\item 'Utah'\n\\item 'Washington'\n\\item 'Wyoming'\n\\end{enumerate*}\n",
            "text/markdown": "1. 'Alaska'\n2. 'Arizona'\n3. 'California'\n4. 'Colorado'\n5. 'Hawaii'\n6. 'Idaho'\n7. 'Montana'\n8. 'Nevada'\n9. 'New Mexico'\n10. 'Oregon'\n11. 'Utah'\n12. 'Washington'\n13. 'Wyoming'\n\n\n",
            "text/html": [
              "<style>\n",
              ".list-inline {list-style: none; margin:0; padding: 0}\n",
              ".list-inline>li {display: inline-block}\n",
              ".list-inline>li:not(:last-child)::after {content: \"\\00b7\"; padding: 0 .5ex}\n",
              "</style>\n",
              "<ol class=list-inline><li>'Alaska'</li><li>'Arizona'</li><li>'California'</li><li>'Colorado'</li><li>'Hawaii'</li><li>'Idaho'</li><li>'Montana'</li><li>'Nevada'</li><li>'New Mexico'</li><li>'Oregon'</li><li>'Utah'</li><li>'Washington'</li><li>'Wyoming'</li></ol>\n"
            ]
          },
          "metadata": {
            "tags": []
          }
        }
      ]
    },
    {
      "cell_type": "code",
      "metadata": {
        "id": "NB6NQ7XEvHTN",
        "colab": {
          "base_uri": "https://localhost:8080/",
          "height": 202
        },
        "outputId": "3e32671f-2f52-4e7b-84fb-dc61170178fa"
      },
      "source": [
        "murder_rate <- murders$total / murders$population * 100000\n",
        "murder_rate"
      ],
      "execution_count": 26,
      "outputs": [
        {
          "output_type": "display_data",
          "data": {
            "text/plain": [
              " [1]  2.8244238  2.6751860  3.6295273  3.1893901  3.3741383  1.2924531\n",
              " [7]  2.7139722  4.2319369 16.4527532  3.3980688  3.7903226  0.5145920\n",
              "[13]  0.7655102  2.8369608  2.1900730  0.6893484  2.2081106  2.6732010\n",
              "[19]  7.7425810  0.8280881  5.0748655  1.8021791  4.1786225  0.9992600\n",
              "[25]  4.0440846  5.3598917  1.2128379  1.7521372  3.1104763  0.3798036\n",
              "[31]  2.7980319  3.2537239  2.6679599  2.9993237  0.5947151  2.6871225\n",
              "[37]  2.9589340  0.9396843  3.5977513  1.5200933  4.4753235  0.9825837\n",
              "[43]  3.4509357  3.2013603  0.7959810  0.3196211  3.1246001  1.3829942\n",
              "[49]  1.4571013  1.7056487  0.8871131"
            ],
            "text/latex": "\\begin{enumerate*}\n\\item 2.82442377570644\n\\item 2.67518596062408\n\\item 3.62952726815339\n\\item 3.18939009944724\n\\item 3.37413830627813\n\\item 1.29245310781286\n\\item 2.71397222850975\n\\item 4.23193686841126\n\\item 16.4527531771264\n\\item 3.39806883024604\n\\item 3.79032258064516\n\\item 0.514591991037278\n\\item 0.76551019340615\n\\item 2.83696079818983\n\\item 2.19007304664763\n\\item 0.689348418027446\n\\item 2.20811056535341\n\\item 2.67320095304223\n\\item 7.7425810191619\n\\item 0.828088147724903\n\\item 5.07486552472378\n\\item 1.80217907886962\n\\item 4.17862245083795\n\\item 0.999259981994466\n\\item 4.04408456585236\n\\item 5.35989168009562\n\\item 1.21283788905565\n\\item 1.75213719672285\n\\item 3.11047634353138\n\\item 0.379803565595874\n\\item 2.79803191439751\n\\item 3.25372393560735\n\\item 2.66795994778023\n\\item 2.9993236839707\n\\item 0.594715064578622\n\\item 2.68712254596366\n\\item 2.95893399471284\n\\item 0.939684276524024\n\\item 3.59775125588679\n\\item 1.52009325772136\n\\item 4.47532345562425\n\\item 0.982583703849272\n\\item 3.45093565265624\n\\item 3.20136027189849\n\\item 0.795981019470781\n\\item 0.319621057274495\n\\item 3.12460005119345\n\\item 1.38299422711442\n\\item 1.45710131819099\n\\item 1.70564865114843\n\\item 0.887113085627704\n\\end{enumerate*}\n",
            "text/markdown": "1. 2.82442377570644\n2. 2.67518596062408\n3. 3.62952726815339\n4. 3.18939009944724\n5. 3.37413830627813\n6. 1.29245310781286\n7. 2.71397222850975\n8. 4.23193686841126\n9. 16.4527531771264\n10. 3.39806883024604\n11. 3.79032258064516\n12. 0.514591991037278\n13. 0.76551019340615\n14. 2.83696079818983\n15. 2.19007304664763\n16. 0.689348418027446\n17. 2.20811056535341\n18. 2.67320095304223\n19. 7.7425810191619\n20. 0.828088147724903\n21. 5.07486552472378\n22. 1.80217907886962\n23. 4.17862245083795\n24. 0.999259981994466\n25. 4.04408456585236\n26. 5.35989168009562\n27. 1.21283788905565\n28. 1.75213719672285\n29. 3.11047634353138\n30. 0.379803565595874\n31. 2.79803191439751\n32. 3.25372393560735\n33. 2.66795994778023\n34. 2.9993236839707\n35. 0.594715064578622\n36. 2.68712254596366\n37. 2.95893399471284\n38. 0.939684276524024\n39. 3.59775125588679\n40. 1.52009325772136\n41. 4.47532345562425\n42. 0.982583703849272\n43. 3.45093565265624\n44. 3.20136027189849\n45. 0.795981019470781\n46. 0.319621057274495\n47. 3.12460005119345\n48. 1.38299422711442\n49. 1.45710131819099\n50. 1.70564865114843\n51. 0.887113085627704\n\n\n",
            "text/html": [
              "<style>\n",
              ".list-inline {list-style: none; margin:0; padding: 0}\n",
              ".list-inline>li {display: inline-block}\n",
              ".list-inline>li:not(:last-child)::after {content: \"\\00b7\"; padding: 0 .5ex}\n",
              "</style>\n",
              "<ol class=list-inline><li>2.82442377570644</li><li>2.67518596062408</li><li>3.62952726815339</li><li>3.18939009944724</li><li>3.37413830627813</li><li>1.29245310781286</li><li>2.71397222850975</li><li>4.23193686841126</li><li>16.4527531771264</li><li>3.39806883024604</li><li>3.79032258064516</li><li>0.514591991037278</li><li>0.76551019340615</li><li>2.83696079818983</li><li>2.19007304664763</li><li>0.689348418027446</li><li>2.20811056535341</li><li>2.67320095304223</li><li>7.7425810191619</li><li>0.828088147724903</li><li>5.07486552472378</li><li>1.80217907886962</li><li>4.17862245083795</li><li>0.999259981994466</li><li>4.04408456585236</li><li>5.35989168009562</li><li>1.21283788905565</li><li>1.75213719672285</li><li>3.11047634353138</li><li>0.379803565595874</li><li>2.79803191439751</li><li>3.25372393560735</li><li>2.66795994778023</li><li>2.9993236839707</li><li>0.594715064578622</li><li>2.68712254596366</li><li>2.95893399471284</li><li>0.939684276524024</li><li>3.59775125588679</li><li>1.52009325772136</li><li>4.47532345562425</li><li>0.982583703849272</li><li>3.45093565265624</li><li>3.20136027189849</li><li>0.795981019470781</li><li>0.319621057274495</li><li>3.12460005119345</li><li>1.38299422711442</li><li>1.45710131819099</li><li>1.70564865114843</li><li>0.887113085627704</li></ol>\n"
            ]
          },
          "metadata": {
            "tags": []
          }
        }
      ]
    },
    {
      "cell_type": "code",
      "metadata": {
        "id": "2y7KDcauv1Ul",
        "colab": {
          "base_uri": "https://localhost:8080/",
          "height": 34
        },
        "outputId": "6bf64f94-f78d-4430-b177-32240193c1a0"
      },
      "source": [
        "ind <- which(murders$state == \"California\")\n",
        "murder_rate[ind]"
      ],
      "execution_count": 27,
      "outputs": [
        {
          "output_type": "display_data",
          "data": {
            "text/plain": [
              "[1] 3.374138"
            ],
            "text/latex": "3.37413830627813",
            "text/markdown": "3.37413830627813",
            "text/html": [
              "3.37413830627813"
            ]
          },
          "metadata": {
            "tags": []
          }
        }
      ]
    },
    {
      "cell_type": "code",
      "metadata": {
        "id": "zpyIJzIivPbi",
        "colab": {
          "base_uri": "https://localhost:8080/",
          "height": 84
        },
        "outputId": "c9a8fb10-d5d4-49a7-cf50-aefc07189deb"
      },
      "source": [
        "ind <- murder_rate <= 0.71\n",
        "ind\n",
        "sum(ind)\n",
        "murders$state[ind]"
      ],
      "execution_count": 28,
      "outputs": [
        {
          "output_type": "display_data",
          "data": {
            "text/plain": [
              " [1] FALSE FALSE FALSE FALSE FALSE FALSE FALSE FALSE FALSE FALSE FALSE  TRUE\n",
              "[13] FALSE FALSE FALSE  TRUE FALSE FALSE FALSE FALSE FALSE FALSE FALSE FALSE\n",
              "[25] FALSE FALSE FALSE FALSE FALSE  TRUE FALSE FALSE FALSE FALSE  TRUE FALSE\n",
              "[37] FALSE FALSE FALSE FALSE FALSE FALSE FALSE FALSE FALSE  TRUE FALSE FALSE\n",
              "[49] FALSE FALSE FALSE"
            ],
            "text/latex": "\\begin{enumerate*}\n\\item FALSE\n\\item FALSE\n\\item FALSE\n\\item FALSE\n\\item FALSE\n\\item FALSE\n\\item FALSE\n\\item FALSE\n\\item FALSE\n\\item FALSE\n\\item FALSE\n\\item TRUE\n\\item FALSE\n\\item FALSE\n\\item FALSE\n\\item TRUE\n\\item FALSE\n\\item FALSE\n\\item FALSE\n\\item FALSE\n\\item FALSE\n\\item FALSE\n\\item FALSE\n\\item FALSE\n\\item FALSE\n\\item FALSE\n\\item FALSE\n\\item FALSE\n\\item FALSE\n\\item TRUE\n\\item FALSE\n\\item FALSE\n\\item FALSE\n\\item FALSE\n\\item TRUE\n\\item FALSE\n\\item FALSE\n\\item FALSE\n\\item FALSE\n\\item FALSE\n\\item FALSE\n\\item FALSE\n\\item FALSE\n\\item FALSE\n\\item FALSE\n\\item TRUE\n\\item FALSE\n\\item FALSE\n\\item FALSE\n\\item FALSE\n\\item FALSE\n\\end{enumerate*}\n",
            "text/markdown": "1. FALSE\n2. FALSE\n3. FALSE\n4. FALSE\n5. FALSE\n6. FALSE\n7. FALSE\n8. FALSE\n9. FALSE\n10. FALSE\n11. FALSE\n12. TRUE\n13. FALSE\n14. FALSE\n15. FALSE\n16. TRUE\n17. FALSE\n18. FALSE\n19. FALSE\n20. FALSE\n21. FALSE\n22. FALSE\n23. FALSE\n24. FALSE\n25. FALSE\n26. FALSE\n27. FALSE\n28. FALSE\n29. FALSE\n30. TRUE\n31. FALSE\n32. FALSE\n33. FALSE\n34. FALSE\n35. TRUE\n36. FALSE\n37. FALSE\n38. FALSE\n39. FALSE\n40. FALSE\n41. FALSE\n42. FALSE\n43. FALSE\n44. FALSE\n45. FALSE\n46. TRUE\n47. FALSE\n48. FALSE\n49. FALSE\n50. FALSE\n51. FALSE\n\n\n",
            "text/html": [
              "<style>\n",
              ".list-inline {list-style: none; margin:0; padding: 0}\n",
              ".list-inline>li {display: inline-block}\n",
              ".list-inline>li:not(:last-child)::after {content: \"\\00b7\"; padding: 0 .5ex}\n",
              "</style>\n",
              "<ol class=list-inline><li>FALSE</li><li>FALSE</li><li>FALSE</li><li>FALSE</li><li>FALSE</li><li>FALSE</li><li>FALSE</li><li>FALSE</li><li>FALSE</li><li>FALSE</li><li>FALSE</li><li>TRUE</li><li>FALSE</li><li>FALSE</li><li>FALSE</li><li>TRUE</li><li>FALSE</li><li>FALSE</li><li>FALSE</li><li>FALSE</li><li>FALSE</li><li>FALSE</li><li>FALSE</li><li>FALSE</li><li>FALSE</li><li>FALSE</li><li>FALSE</li><li>FALSE</li><li>FALSE</li><li>TRUE</li><li>FALSE</li><li>FALSE</li><li>FALSE</li><li>FALSE</li><li>TRUE</li><li>FALSE</li><li>FALSE</li><li>FALSE</li><li>FALSE</li><li>FALSE</li><li>FALSE</li><li>FALSE</li><li>FALSE</li><li>FALSE</li><li>FALSE</li><li>TRUE</li><li>FALSE</li><li>FALSE</li><li>FALSE</li><li>FALSE</li><li>FALSE</li></ol>\n"
            ]
          },
          "metadata": {
            "tags": []
          }
        },
        {
          "output_type": "display_data",
          "data": {
            "text/plain": [
              "[1] 5"
            ],
            "text/latex": "5",
            "text/markdown": "5",
            "text/html": [
              "5"
            ]
          },
          "metadata": {
            "tags": []
          }
        },
        {
          "output_type": "display_data",
          "data": {
            "text/plain": [
              "[1] \"Hawaii\"        \"Iowa\"          \"New Hampshire\" \"North Dakota\" \n",
              "[5] \"Vermont\"      "
            ],
            "text/latex": "\\begin{enumerate*}\n\\item 'Hawaii'\n\\item 'Iowa'\n\\item 'New Hampshire'\n\\item 'North Dakota'\n\\item 'Vermont'\n\\end{enumerate*}\n",
            "text/markdown": "1. 'Hawaii'\n2. 'Iowa'\n3. 'New Hampshire'\n4. 'North Dakota'\n5. 'Vermont'\n\n\n",
            "text/html": [
              "<style>\n",
              ".list-inline {list-style: none; margin:0; padding: 0}\n",
              ".list-inline>li {display: inline-block}\n",
              ".list-inline>li:not(:last-child)::after {content: \"\\00b7\"; padding: 0 .5ex}\n",
              "</style>\n",
              "<ol class=list-inline><li>'Hawaii'</li><li>'Iowa'</li><li>'New Hampshire'</li><li>'North Dakota'</li><li>'Vermont'</li></ol>\n"
            ]
          },
          "metadata": {
            "tags": []
          }
        }
      ]
    },
    {
      "cell_type": "code",
      "metadata": {
        "id": "qXEFYEYovsLl",
        "colab": {
          "base_uri": "https://localhost:8080/",
          "height": 34
        },
        "outputId": "46ecc7bd-5b47-4e05-ca74-d8c803abd1ab"
      },
      "source": [
        "west <- murders$region == \"West\"\n",
        "safe <- murder_rate <= 1\n",
        "ind <- safe & west\n",
        "murders$state[ind]"
      ],
      "execution_count": 29,
      "outputs": [
        {
          "output_type": "display_data",
          "data": {
            "text/plain": [
              "[1] \"Hawaii\"  \"Idaho\"   \"Oregon\"  \"Utah\"    \"Wyoming\""
            ],
            "text/latex": "\\begin{enumerate*}\n\\item 'Hawaii'\n\\item 'Idaho'\n\\item 'Oregon'\n\\item 'Utah'\n\\item 'Wyoming'\n\\end{enumerate*}\n",
            "text/markdown": "1. 'Hawaii'\n2. 'Idaho'\n3. 'Oregon'\n4. 'Utah'\n5. 'Wyoming'\n\n\n",
            "text/html": [
              "<style>\n",
              ".list-inline {list-style: none; margin:0; padding: 0}\n",
              ".list-inline>li {display: inline-block}\n",
              ".list-inline>li:not(:last-child)::after {content: \"\\00b7\"; padding: 0 .5ex}\n",
              "</style>\n",
              "<ol class=list-inline><li>'Hawaii'</li><li>'Idaho'</li><li>'Oregon'</li><li>'Utah'</li><li>'Wyoming'</li></ol>\n"
            ]
          },
          "metadata": {
            "tags": []
          }
        }
      ]
    },
    {
      "cell_type": "code",
      "metadata": {
        "id": "k5TSiduqv6v8",
        "colab": {
          "base_uri": "https://localhost:8080/",
          "height": 50
        },
        "outputId": "fe260ebe-3b4d-4ad3-d613-661472f9600c"
      },
      "source": [
        "ind <- match(c(\"New York\", \"Florida\", \"Texas\"), murders$state)\n",
        "ind\n",
        "murder_rate[ind]"
      ],
      "execution_count": 30,
      "outputs": [
        {
          "output_type": "display_data",
          "data": {
            "text/plain": [
              "[1] 33 10 44"
            ],
            "text/latex": "\\begin{enumerate*}\n\\item 33\n\\item 10\n\\item 44\n\\end{enumerate*}\n",
            "text/markdown": "1. 33\n2. 10\n3. 44\n\n\n",
            "text/html": [
              "<style>\n",
              ".list-inline {list-style: none; margin:0; padding: 0}\n",
              ".list-inline>li {display: inline-block}\n",
              ".list-inline>li:not(:last-child)::after {content: \"\\00b7\"; padding: 0 .5ex}\n",
              "</style>\n",
              "<ol class=list-inline><li>33</li><li>10</li><li>44</li></ol>\n"
            ]
          },
          "metadata": {
            "tags": []
          }
        },
        {
          "output_type": "display_data",
          "data": {
            "text/plain": [
              "[1] 2.667960 3.398069 3.201360"
            ],
            "text/latex": "\\begin{enumerate*}\n\\item 2.66795994778023\n\\item 3.39806883024604\n\\item 3.20136027189849\n\\end{enumerate*}\n",
            "text/markdown": "1. 2.66795994778023\n2. 3.39806883024604\n3. 3.20136027189849\n\n\n",
            "text/html": [
              "<style>\n",
              ".list-inline {list-style: none; margin:0; padding: 0}\n",
              ".list-inline>li {display: inline-block}\n",
              ".list-inline>li:not(:last-child)::after {content: \"\\00b7\"; padding: 0 .5ex}\n",
              "</style>\n",
              "<ol class=list-inline><li>2.66795994778023</li><li>3.39806883024604</li><li>3.20136027189849</li></ol>\n"
            ]
          },
          "metadata": {
            "tags": []
          }
        }
      ]
    },
    {
      "cell_type": "code",
      "metadata": {
        "id": "kVq1TmbrwEvF",
        "colab": {
          "base_uri": "https://localhost:8080/",
          "height": 34
        },
        "outputId": "de6a3982-c1ee-4aec-ed7e-db823b320051"
      },
      "source": [
        "c(\"Boston\", \"Dakota\", \"Washington\") %in% murders$state"
      ],
      "execution_count": 31,
      "outputs": [
        {
          "output_type": "display_data",
          "data": {
            "text/plain": [
              "[1] FALSE FALSE  TRUE"
            ],
            "text/latex": "\\begin{enumerate*}\n\\item FALSE\n\\item FALSE\n\\item TRUE\n\\end{enumerate*}\n",
            "text/markdown": "1. FALSE\n2. FALSE\n3. TRUE\n\n\n",
            "text/html": [
              "<style>\n",
              ".list-inline {list-style: none; margin:0; padding: 0}\n",
              ".list-inline>li {display: inline-block}\n",
              ".list-inline>li:not(:last-child)::after {content: \"\\00b7\"; padding: 0 .5ex}\n",
              "</style>\n",
              "<ol class=list-inline><li>FALSE</li><li>FALSE</li><li>TRUE</li></ol>\n"
            ]
          },
          "metadata": {
            "tags": []
          }
        }
      ]
    },
    {
      "cell_type": "code",
      "metadata": {
        "id": "_6VwmNB9wJ66",
        "colab": {
          "base_uri": "https://localhost:8080/",
          "height": 50
        },
        "outputId": "fadadfb9-5cd9-4e89-c19d-1fda62a59442"
      },
      "source": [
        "match(c(\"New York\", \"Florida\", \"Texas\"), murders$state)\n",
        "which(murders$state%in%c(\"New York\", \"Florida\", \"Texas\"))"
      ],
      "execution_count": 32,
      "outputs": [
        {
          "output_type": "display_data",
          "data": {
            "text/plain": [
              "[1] 33 10 44"
            ],
            "text/latex": "\\begin{enumerate*}\n\\item 33\n\\item 10\n\\item 44\n\\end{enumerate*}\n",
            "text/markdown": "1. 33\n2. 10\n3. 44\n\n\n",
            "text/html": [
              "<style>\n",
              ".list-inline {list-style: none; margin:0; padding: 0}\n",
              ".list-inline>li {display: inline-block}\n",
              ".list-inline>li:not(:last-child)::after {content: \"\\00b7\"; padding: 0 .5ex}\n",
              "</style>\n",
              "<ol class=list-inline><li>33</li><li>10</li><li>44</li></ol>\n"
            ]
          },
          "metadata": {
            "tags": []
          }
        },
        {
          "output_type": "display_data",
          "data": {
            "text/plain": [
              "[1] 10 33 44"
            ],
            "text/latex": "\\begin{enumerate*}\n\\item 10\n\\item 33\n\\item 44\n\\end{enumerate*}\n",
            "text/markdown": "1. 10\n2. 33\n3. 44\n\n\n",
            "text/html": [
              "<style>\n",
              ".list-inline {list-style: none; margin:0; padding: 0}\n",
              ".list-inline>li {display: inline-block}\n",
              ".list-inline>li:not(:last-child)::after {content: \"\\00b7\"; padding: 0 .5ex}\n",
              "</style>\n",
              "<ol class=list-inline><li>10</li><li>33</li><li>44</li></ol>\n"
            ]
          },
          "metadata": {
            "tags": []
          }
        }
      ]
    },
    {
      "cell_type": "markdown",
      "metadata": {
        "id": "pjszIBdRxgJt"
      },
      "source": [
        "Podemos também adicionar colunas aos dados iniciais utilizando `mutate`"
      ]
    },
    {
      "cell_type": "code",
      "metadata": {
        "colab": {
          "base_uri": "https://localhost:8080/",
          "height": 271
        },
        "id": "agiXgGSQjS-O",
        "outputId": "e57cb37c-d7a5-4a87-a8cc-b04d89c2d65c"
      },
      "source": [
        "head(murders)"
      ],
      "execution_count": 33,
      "outputs": [
        {
          "output_type": "display_data",
          "data": {
            "text/plain": [
              "  state      abb region population total\n",
              "1 Alabama    AL  South   4779736    135 \n",
              "2 Alaska     AK  West     710231     19 \n",
              "3 Arizona    AZ  West    6392017    232 \n",
              "4 Arkansas   AR  South   2915918     93 \n",
              "5 California CA  West   37253956   1257 \n",
              "6 Colorado   CO  West    5029196     65 "
            ],
            "text/latex": "A data.frame: 6 × 5\n\\begin{tabular}{r|lllll}\n  & state & abb & region & population & total\\\\\n  & <chr> & <chr> & <fct> & <dbl> & <dbl>\\\\\n\\hline\n\t1 & Alabama    & AL & South &  4779736 &  135\\\\\n\t2 & Alaska     & AK & West  &   710231 &   19\\\\\n\t3 & Arizona    & AZ & West  &  6392017 &  232\\\\\n\t4 & Arkansas   & AR & South &  2915918 &   93\\\\\n\t5 & California & CA & West  & 37253956 & 1257\\\\\n\t6 & Colorado   & CO & West  &  5029196 &   65\\\\\n\\end{tabular}\n",
            "text/markdown": "\nA data.frame: 6 × 5\n\n| <!--/--> | state &lt;chr&gt; | abb &lt;chr&gt; | region &lt;fct&gt; | population &lt;dbl&gt; | total &lt;dbl&gt; |\n|---|---|---|---|---|---|\n| 1 | Alabama    | AL | South |  4779736 |  135 |\n| 2 | Alaska     | AK | West  |   710231 |   19 |\n| 3 | Arizona    | AZ | West  |  6392017 |  232 |\n| 4 | Arkansas   | AR | South |  2915918 |   93 |\n| 5 | California | CA | West  | 37253956 | 1257 |\n| 6 | Colorado   | CO | West  |  5029196 |   65 |\n\n",
            "text/html": [
              "<table class=\"dataframe\">\n",
              "<caption>A data.frame: 6 × 5</caption>\n",
              "<thead>\n",
              "\t<tr><th></th><th scope=col>state</th><th scope=col>abb</th><th scope=col>region</th><th scope=col>population</th><th scope=col>total</th></tr>\n",
              "\t<tr><th></th><th scope=col>&lt;chr&gt;</th><th scope=col>&lt;chr&gt;</th><th scope=col>&lt;fct&gt;</th><th scope=col>&lt;dbl&gt;</th><th scope=col>&lt;dbl&gt;</th></tr>\n",
              "</thead>\n",
              "<tbody>\n",
              "\t<tr><th scope=row>1</th><td>Alabama   </td><td>AL</td><td>South</td><td> 4779736</td><td> 135</td></tr>\n",
              "\t<tr><th scope=row>2</th><td>Alaska    </td><td>AK</td><td>West </td><td>  710231</td><td>  19</td></tr>\n",
              "\t<tr><th scope=row>3</th><td>Arizona   </td><td>AZ</td><td>West </td><td> 6392017</td><td> 232</td></tr>\n",
              "\t<tr><th scope=row>4</th><td>Arkansas  </td><td>AR</td><td>South</td><td> 2915918</td><td>  93</td></tr>\n",
              "\t<tr><th scope=row>5</th><td>California</td><td>CA</td><td>West </td><td>37253956</td><td>1257</td></tr>\n",
              "\t<tr><th scope=row>6</th><td>Colorado  </td><td>CO</td><td>West </td><td> 5029196</td><td>  65</td></tr>\n",
              "</tbody>\n",
              "</table>\n"
            ]
          },
          "metadata": {
            "tags": []
          }
        }
      ]
    },
    {
      "cell_type": "code",
      "metadata": {
        "id": "y3A5zZd-xeNh",
        "colab": {
          "base_uri": "https://localhost:8080/",
          "height": 271
        },
        "outputId": "601ff730-bc30-4981-bd04-52442c843202"
      },
      "source": [
        "murders <- mutate(murders, rate = total / population * 100000)\n",
        "head(murders)"
      ],
      "execution_count": 34,
      "outputs": [
        {
          "output_type": "display_data",
          "data": {
            "text/plain": [
              "  state      abb region population total rate    \n",
              "1 Alabama    AL  South   4779736    135  2.824424\n",
              "2 Alaska     AK  West     710231     19  2.675186\n",
              "3 Arizona    AZ  West    6392017    232  3.629527\n",
              "4 Arkansas   AR  South   2915918     93  3.189390\n",
              "5 California CA  West   37253956   1257  3.374138\n",
              "6 Colorado   CO  West    5029196     65  1.292453"
            ],
            "text/latex": "A data.frame: 6 × 6\n\\begin{tabular}{r|llllll}\n  & state & abb & region & population & total & rate\\\\\n  & <chr> & <chr> & <fct> & <dbl> & <dbl> & <dbl>\\\\\n\\hline\n\t1 & Alabama    & AL & South &  4779736 &  135 & 2.824424\\\\\n\t2 & Alaska     & AK & West  &   710231 &   19 & 2.675186\\\\\n\t3 & Arizona    & AZ & West  &  6392017 &  232 & 3.629527\\\\\n\t4 & Arkansas   & AR & South &  2915918 &   93 & 3.189390\\\\\n\t5 & California & CA & West  & 37253956 & 1257 & 3.374138\\\\\n\t6 & Colorado   & CO & West  &  5029196 &   65 & 1.292453\\\\\n\\end{tabular}\n",
            "text/markdown": "\nA data.frame: 6 × 6\n\n| <!--/--> | state &lt;chr&gt; | abb &lt;chr&gt; | region &lt;fct&gt; | population &lt;dbl&gt; | total &lt;dbl&gt; | rate &lt;dbl&gt; |\n|---|---|---|---|---|---|---|\n| 1 | Alabama    | AL | South |  4779736 |  135 | 2.824424 |\n| 2 | Alaska     | AK | West  |   710231 |   19 | 2.675186 |\n| 3 | Arizona    | AZ | West  |  6392017 |  232 | 3.629527 |\n| 4 | Arkansas   | AR | South |  2915918 |   93 | 3.189390 |\n| 5 | California | CA | West  | 37253956 | 1257 | 3.374138 |\n| 6 | Colorado   | CO | West  |  5029196 |   65 | 1.292453 |\n\n",
            "text/html": [
              "<table class=\"dataframe\">\n",
              "<caption>A data.frame: 6 × 6</caption>\n",
              "<thead>\n",
              "\t<tr><th></th><th scope=col>state</th><th scope=col>abb</th><th scope=col>region</th><th scope=col>population</th><th scope=col>total</th><th scope=col>rate</th></tr>\n",
              "\t<tr><th></th><th scope=col>&lt;chr&gt;</th><th scope=col>&lt;chr&gt;</th><th scope=col>&lt;fct&gt;</th><th scope=col>&lt;dbl&gt;</th><th scope=col>&lt;dbl&gt;</th><th scope=col>&lt;dbl&gt;</th></tr>\n",
              "</thead>\n",
              "<tbody>\n",
              "\t<tr><th scope=row>1</th><td>Alabama   </td><td>AL</td><td>South</td><td> 4779736</td><td> 135</td><td>2.824424</td></tr>\n",
              "\t<tr><th scope=row>2</th><td>Alaska    </td><td>AK</td><td>West </td><td>  710231</td><td>  19</td><td>2.675186</td></tr>\n",
              "\t<tr><th scope=row>3</th><td>Arizona   </td><td>AZ</td><td>West </td><td> 6392017</td><td> 232</td><td>3.629527</td></tr>\n",
              "\t<tr><th scope=row>4</th><td>Arkansas  </td><td>AR</td><td>South</td><td> 2915918</td><td>  93</td><td>3.189390</td></tr>\n",
              "\t<tr><th scope=row>5</th><td>California</td><td>CA</td><td>West </td><td>37253956</td><td>1257</td><td>3.374138</td></tr>\n",
              "\t<tr><th scope=row>6</th><td>Colorado  </td><td>CO</td><td>West </td><td> 5029196</td><td>  65</td><td>1.292453</td></tr>\n",
              "</tbody>\n",
              "</table>\n"
            ]
          },
          "metadata": {
            "tags": []
          }
        }
      ]
    },
    {
      "cell_type": "markdown",
      "metadata": {
        "id": "rYmtAq2f_Zkz"
      },
      "source": [
        "A aplicação de filtros pode ser realizado utilizando `filter` em conjunto com o que se deseja pesquisar."
      ]
    },
    {
      "cell_type": "code",
      "metadata": {
        "id": "8-_i295Sxp_X",
        "colab": {
          "base_uri": "https://localhost:8080/",
          "height": 242
        },
        "outputId": "b2338dde-d977-408d-83c5-6ab12ec4c2e7"
      },
      "source": [
        "filter(murders, rate <= 0.71)"
      ],
      "execution_count": 35,
      "outputs": [
        {
          "output_type": "display_data",
          "data": {
            "text/plain": [
              "  state         abb region        population total rate     \n",
              "1 Hawaii        HI  West          1360301     7    0.5145920\n",
              "2 Iowa          IA  North Central 3046355    21    0.6893484\n",
              "3 New Hampshire NH  Northeast     1316470     5    0.3798036\n",
              "4 North Dakota  ND  North Central  672591     4    0.5947151\n",
              "5 Vermont       VT  Northeast      625741     2    0.3196211"
            ],
            "text/latex": "A data.frame: 5 × 6\n\\begin{tabular}{llllll}\n state & abb & region & population & total & rate\\\\\n <chr> & <chr> & <fct> & <dbl> & <dbl> & <dbl>\\\\\n\\hline\n\t Hawaii        & HI & West          & 1360301 &  7 & 0.5145920\\\\\n\t Iowa          & IA & North Central & 3046355 & 21 & 0.6893484\\\\\n\t New Hampshire & NH & Northeast     & 1316470 &  5 & 0.3798036\\\\\n\t North Dakota  & ND & North Central &  672591 &  4 & 0.5947151\\\\\n\t Vermont       & VT & Northeast     &  625741 &  2 & 0.3196211\\\\\n\\end{tabular}\n",
            "text/markdown": "\nA data.frame: 5 × 6\n\n| state &lt;chr&gt; | abb &lt;chr&gt; | region &lt;fct&gt; | population &lt;dbl&gt; | total &lt;dbl&gt; | rate &lt;dbl&gt; |\n|---|---|---|---|---|---|\n| Hawaii        | HI | West          | 1360301 |  7 | 0.5145920 |\n| Iowa          | IA | North Central | 3046355 | 21 | 0.6893484 |\n| New Hampshire | NH | Northeast     | 1316470 |  5 | 0.3798036 |\n| North Dakota  | ND | North Central |  672591 |  4 | 0.5947151 |\n| Vermont       | VT | Northeast     |  625741 |  2 | 0.3196211 |\n\n",
            "text/html": [
              "<table class=\"dataframe\">\n",
              "<caption>A data.frame: 5 × 6</caption>\n",
              "<thead>\n",
              "\t<tr><th scope=col>state</th><th scope=col>abb</th><th scope=col>region</th><th scope=col>population</th><th scope=col>total</th><th scope=col>rate</th></tr>\n",
              "\t<tr><th scope=col>&lt;chr&gt;</th><th scope=col>&lt;chr&gt;</th><th scope=col>&lt;fct&gt;</th><th scope=col>&lt;dbl&gt;</th><th scope=col>&lt;dbl&gt;</th><th scope=col>&lt;dbl&gt;</th></tr>\n",
              "</thead>\n",
              "<tbody>\n",
              "\t<tr><td>Hawaii       </td><td>HI</td><td>West         </td><td>1360301</td><td> 7</td><td>0.5145920</td></tr>\n",
              "\t<tr><td>Iowa         </td><td>IA</td><td>North Central</td><td>3046355</td><td>21</td><td>0.6893484</td></tr>\n",
              "\t<tr><td>New Hampshire</td><td>NH</td><td>Northeast    </td><td>1316470</td><td> 5</td><td>0.3798036</td></tr>\n",
              "\t<tr><td>North Dakota </td><td>ND</td><td>North Central</td><td> 672591</td><td> 4</td><td>0.5947151</td></tr>\n",
              "\t<tr><td>Vermont      </td><td>VT</td><td>Northeast    </td><td> 625741</td><td> 2</td><td>0.3196211</td></tr>\n",
              "</tbody>\n",
              "</table>\n"
            ]
          },
          "metadata": {
            "tags": []
          }
        }
      ]
    },
    {
      "cell_type": "markdown",
      "metadata": {
        "id": "gwUtt70Zx1p3"
      },
      "source": [
        "Para selecionar algumas colunas utiliza-se `select`"
      ]
    },
    {
      "cell_type": "code",
      "metadata": {
        "id": "ne3KSxzIx3FB",
        "colab": {
          "base_uri": "https://localhost:8080/",
          "height": 242
        },
        "outputId": "0f0038ec-2ba4-43b5-fb94-70548012832d"
      },
      "source": [
        "new_table <- select(murders, state, region, rate)\n",
        "filter(new_table, rate <= 0.71)"
      ],
      "execution_count": 36,
      "outputs": [
        {
          "output_type": "display_data",
          "data": {
            "text/plain": [
              "  state         region        rate     \n",
              "1 Hawaii        West          0.5145920\n",
              "2 Iowa          North Central 0.6893484\n",
              "3 New Hampshire Northeast     0.3798036\n",
              "4 North Dakota  North Central 0.5947151\n",
              "5 Vermont       Northeast     0.3196211"
            ],
            "text/latex": "A data.frame: 5 × 3\n\\begin{tabular}{lll}\n state & region & rate\\\\\n <chr> & <fct> & <dbl>\\\\\n\\hline\n\t Hawaii        & West          & 0.5145920\\\\\n\t Iowa          & North Central & 0.6893484\\\\\n\t New Hampshire & Northeast     & 0.3798036\\\\\n\t North Dakota  & North Central & 0.5947151\\\\\n\t Vermont       & Northeast     & 0.3196211\\\\\n\\end{tabular}\n",
            "text/markdown": "\nA data.frame: 5 × 3\n\n| state &lt;chr&gt; | region &lt;fct&gt; | rate &lt;dbl&gt; |\n|---|---|---|\n| Hawaii        | West          | 0.5145920 |\n| Iowa          | North Central | 0.6893484 |\n| New Hampshire | Northeast     | 0.3798036 |\n| North Dakota  | North Central | 0.5947151 |\n| Vermont       | Northeast     | 0.3196211 |\n\n",
            "text/html": [
              "<table class=\"dataframe\">\n",
              "<caption>A data.frame: 5 × 3</caption>\n",
              "<thead>\n",
              "\t<tr><th scope=col>state</th><th scope=col>region</th><th scope=col>rate</th></tr>\n",
              "\t<tr><th scope=col>&lt;chr&gt;</th><th scope=col>&lt;fct&gt;</th><th scope=col>&lt;dbl&gt;</th></tr>\n",
              "</thead>\n",
              "<tbody>\n",
              "\t<tr><td>Hawaii       </td><td>West         </td><td>0.5145920</td></tr>\n",
              "\t<tr><td>Iowa         </td><td>North Central</td><td>0.6893484</td></tr>\n",
              "\t<tr><td>New Hampshire</td><td>Northeast    </td><td>0.3798036</td></tr>\n",
              "\t<tr><td>North Dakota </td><td>North Central</td><td>0.5947151</td></tr>\n",
              "\t<tr><td>Vermont      </td><td>Northeast    </td><td>0.3196211</td></tr>\n",
              "</tbody>\n",
              "</table>\n"
            ]
          },
          "metadata": {
            "tags": []
          }
        }
      ]
    },
    {
      "cell_type": "markdown",
      "metadata": {
        "id": "bxPu9HNnyCOA"
      },
      "source": [
        "Um dos operadores bastante utilizados, presente no pacote `tidyverse` é operador pipe `%>%`. Esse operador é utilizado para concatenar as informações que serão passadas a diante."
      ]
    },
    {
      "cell_type": "code",
      "metadata": {
        "id": "E4cOLA09yKV1",
        "colab": {
          "base_uri": "https://localhost:8080/",
          "height": 242
        },
        "outputId": "6ba4f41e-b7d3-41e2-90b2-a122189c65b4"
      },
      "source": [
        "murders %>% select(state, region, rate) %>% filter(rate <= 0.71)"
      ],
      "execution_count": 37,
      "outputs": [
        {
          "output_type": "display_data",
          "data": {
            "text/plain": [
              "  state         region        rate     \n",
              "1 Hawaii        West          0.5145920\n",
              "2 Iowa          North Central 0.6893484\n",
              "3 New Hampshire Northeast     0.3798036\n",
              "4 North Dakota  North Central 0.5947151\n",
              "5 Vermont       Northeast     0.3196211"
            ],
            "text/latex": "A data.frame: 5 × 3\n\\begin{tabular}{lll}\n state & region & rate\\\\\n <chr> & <fct> & <dbl>\\\\\n\\hline\n\t Hawaii        & West          & 0.5145920\\\\\n\t Iowa          & North Central & 0.6893484\\\\\n\t New Hampshire & Northeast     & 0.3798036\\\\\n\t North Dakota  & North Central & 0.5947151\\\\\n\t Vermont       & Northeast     & 0.3196211\\\\\n\\end{tabular}\n",
            "text/markdown": "\nA data.frame: 5 × 3\n\n| state &lt;chr&gt; | region &lt;fct&gt; | rate &lt;dbl&gt; |\n|---|---|---|\n| Hawaii        | West          | 0.5145920 |\n| Iowa          | North Central | 0.6893484 |\n| New Hampshire | Northeast     | 0.3798036 |\n| North Dakota  | North Central | 0.5947151 |\n| Vermont       | Northeast     | 0.3196211 |\n\n",
            "text/html": [
              "<table class=\"dataframe\">\n",
              "<caption>A data.frame: 5 × 3</caption>\n",
              "<thead>\n",
              "\t<tr><th scope=col>state</th><th scope=col>region</th><th scope=col>rate</th></tr>\n",
              "\t<tr><th scope=col>&lt;chr&gt;</th><th scope=col>&lt;fct&gt;</th><th scope=col>&lt;dbl&gt;</th></tr>\n",
              "</thead>\n",
              "<tbody>\n",
              "\t<tr><td>Hawaii       </td><td>West         </td><td>0.5145920</td></tr>\n",
              "\t<tr><td>Iowa         </td><td>North Central</td><td>0.6893484</td></tr>\n",
              "\t<tr><td>New Hampshire</td><td>Northeast    </td><td>0.3798036</td></tr>\n",
              "\t<tr><td>North Dakota </td><td>North Central</td><td>0.5947151</td></tr>\n",
              "\t<tr><td>Vermont      </td><td>Northeast    </td><td>0.3196211</td></tr>\n",
              "</tbody>\n",
              "</table>\n"
            ]
          },
          "metadata": {
            "tags": []
          }
        }
      ]
    },
    {
      "cell_type": "code",
      "metadata": {
        "colab": {
          "base_uri": "https://localhost:8080/",
          "height": 242
        },
        "id": "ZSs9B2oCkqeE",
        "outputId": "f1667cdf-9c86-46c0-c8a6-f55961149e8d"
      },
      "source": [
        "murders %>% filter(rate <= 0.71) %>% select(state, region, rate)"
      ],
      "execution_count": 38,
      "outputs": [
        {
          "output_type": "display_data",
          "data": {
            "text/plain": [
              "  state         region        rate     \n",
              "1 Hawaii        West          0.5145920\n",
              "2 Iowa          North Central 0.6893484\n",
              "3 New Hampshire Northeast     0.3798036\n",
              "4 North Dakota  North Central 0.5947151\n",
              "5 Vermont       Northeast     0.3196211"
            ],
            "text/latex": "A data.frame: 5 × 3\n\\begin{tabular}{lll}\n state & region & rate\\\\\n <chr> & <fct> & <dbl>\\\\\n\\hline\n\t Hawaii        & West          & 0.5145920\\\\\n\t Iowa          & North Central & 0.6893484\\\\\n\t New Hampshire & Northeast     & 0.3798036\\\\\n\t North Dakota  & North Central & 0.5947151\\\\\n\t Vermont       & Northeast     & 0.3196211\\\\\n\\end{tabular}\n",
            "text/markdown": "\nA data.frame: 5 × 3\n\n| state &lt;chr&gt; | region &lt;fct&gt; | rate &lt;dbl&gt; |\n|---|---|---|\n| Hawaii        | West          | 0.5145920 |\n| Iowa          | North Central | 0.6893484 |\n| New Hampshire | Northeast     | 0.3798036 |\n| North Dakota  | North Central | 0.5947151 |\n| Vermont       | Northeast     | 0.3196211 |\n\n",
            "text/html": [
              "<table class=\"dataframe\">\n",
              "<caption>A data.frame: 5 × 3</caption>\n",
              "<thead>\n",
              "\t<tr><th scope=col>state</th><th scope=col>region</th><th scope=col>rate</th></tr>\n",
              "\t<tr><th scope=col>&lt;chr&gt;</th><th scope=col>&lt;fct&gt;</th><th scope=col>&lt;dbl&gt;</th></tr>\n",
              "</thead>\n",
              "<tbody>\n",
              "\t<tr><td>Hawaii       </td><td>West         </td><td>0.5145920</td></tr>\n",
              "\t<tr><td>Iowa         </td><td>North Central</td><td>0.6893484</td></tr>\n",
              "\t<tr><td>New Hampshire</td><td>Northeast    </td><td>0.3798036</td></tr>\n",
              "\t<tr><td>North Dakota </td><td>North Central</td><td>0.5947151</td></tr>\n",
              "\t<tr><td>Vermont      </td><td>Northeast    </td><td>0.3196211</td></tr>\n",
              "</tbody>\n",
              "</table>\n"
            ]
          },
          "metadata": {
            "tags": []
          }
        }
      ]
    },
    {
      "cell_type": "markdown",
      "metadata": {
        "id": "hOZeg8NeyVch"
      },
      "source": [
        "Neste outro exemplo é realizado um `mutate` em seguida um `select`"
      ]
    },
    {
      "cell_type": "code",
      "metadata": {
        "id": "neX0ZpjdyhXL",
        "colab": {
          "base_uri": "https://localhost:8080/",
          "height": 1000
        },
        "outputId": "698f1c8c-8282-452c-b10e-df8f620bf79a"
      },
      "source": [
        "mutate(murders, rank = rank(-rate)) %>%\n",
        "    select(state, rate, rank)"
      ],
      "execution_count": 39,
      "outputs": [
        {
          "output_type": "display_data",
          "data": {
            "text/plain": [
              "   state                rate       rank\n",
              "1  Alabama               2.8244238 23  \n",
              "2  Alaska                2.6751860 27  \n",
              "3  Arizona               3.6295273 10  \n",
              "4  Arkansas              3.1893901 17  \n",
              "5  California            3.3741383 14  \n",
              "6  Colorado              1.2924531 38  \n",
              "7  Connecticut           2.7139722 25  \n",
              "8  Delaware              4.2319369  6  \n",
              "9  District of Columbia 16.4527532  1  \n",
              "10 Florida               3.3980688 13  \n",
              "11 Georgia               3.7903226  9  \n",
              "12 Hawaii                0.5145920 49  \n",
              "13 Idaho                 0.7655102 46  \n",
              "14 Illinois              2.8369608 22  \n",
              "15 Indiana               2.1900730 31  \n",
              "16 Iowa                  0.6893484 47  \n",
              "17 Kansas                2.2081106 30  \n",
              "18 Kentucky              2.6732010 28  \n",
              "19 Louisiana             7.7425810  2  \n",
              "20 Maine                 0.8280881 44  \n",
              "21 Maryland              5.0748655  4  \n",
              "22 Massachusetts         1.8021791 32  \n",
              "23 Michigan              4.1786225  7  \n",
              "24 Minnesota             0.9992600 40  \n",
              "25 Mississippi           4.0440846  8  \n",
              "26 Missouri              5.3598917  3  \n",
              "27 Montana               1.2128379 39  \n",
              "28 Nebraska              1.7521372 33  \n",
              "29 Nevada                3.1104763 19  \n",
              "30 New Hampshire         0.3798036 50  \n",
              "31 New Jersey            2.7980319 24  \n",
              "32 New Mexico            3.2537239 15  \n",
              "33 New York              2.6679599 29  \n",
              "34 North Carolina        2.9993237 20  \n",
              "35 North Dakota          0.5947151 48  \n",
              "36 Ohio                  2.6871225 26  \n",
              "37 Oklahoma              2.9589340 21  \n",
              "38 Oregon                0.9396843 42  \n",
              "39 Pennsylvania          3.5977513 11  \n",
              "40 Rhode Island          1.5200933 35  \n",
              "41 South Carolina        4.4753235  5  \n",
              "42 South Dakota          0.9825837 41  \n",
              "43 Tennessee             3.4509357 12  \n",
              "44 Texas                 3.2013603 16  \n",
              "45 Utah                  0.7959810 45  \n",
              "46 Vermont               0.3196211 51  \n",
              "47 Virginia              3.1246001 18  \n",
              "48 Washington            1.3829942 37  \n",
              "49 West Virginia         1.4571013 36  \n",
              "50 Wisconsin             1.7056487 34  \n",
              "51 Wyoming               0.8871131 43  "
            ],
            "text/latex": "A data.frame: 51 × 3\n\\begin{tabular}{lll}\n state & rate & rank\\\\\n <chr> & <dbl> & <dbl>\\\\\n\\hline\n\t Alabama              &  2.8244238 & 23\\\\\n\t Alaska               &  2.6751860 & 27\\\\\n\t Arizona              &  3.6295273 & 10\\\\\n\t Arkansas             &  3.1893901 & 17\\\\\n\t California           &  3.3741383 & 14\\\\\n\t Colorado             &  1.2924531 & 38\\\\\n\t Connecticut          &  2.7139722 & 25\\\\\n\t Delaware             &  4.2319369 &  6\\\\\n\t District of Columbia & 16.4527532 &  1\\\\\n\t Florida              &  3.3980688 & 13\\\\\n\t Georgia              &  3.7903226 &  9\\\\\n\t Hawaii               &  0.5145920 & 49\\\\\n\t Idaho                &  0.7655102 & 46\\\\\n\t Illinois             &  2.8369608 & 22\\\\\n\t Indiana              &  2.1900730 & 31\\\\\n\t Iowa                 &  0.6893484 & 47\\\\\n\t Kansas               &  2.2081106 & 30\\\\\n\t Kentucky             &  2.6732010 & 28\\\\\n\t Louisiana            &  7.7425810 &  2\\\\\n\t Maine                &  0.8280881 & 44\\\\\n\t Maryland             &  5.0748655 &  4\\\\\n\t Massachusetts        &  1.8021791 & 32\\\\\n\t Michigan             &  4.1786225 &  7\\\\\n\t Minnesota            &  0.9992600 & 40\\\\\n\t Mississippi          &  4.0440846 &  8\\\\\n\t Missouri             &  5.3598917 &  3\\\\\n\t Montana              &  1.2128379 & 39\\\\\n\t Nebraska             &  1.7521372 & 33\\\\\n\t Nevada               &  3.1104763 & 19\\\\\n\t New Hampshire        &  0.3798036 & 50\\\\\n\t New Jersey           &  2.7980319 & 24\\\\\n\t New Mexico           &  3.2537239 & 15\\\\\n\t New York             &  2.6679599 & 29\\\\\n\t North Carolina       &  2.9993237 & 20\\\\\n\t North Dakota         &  0.5947151 & 48\\\\\n\t Ohio                 &  2.6871225 & 26\\\\\n\t Oklahoma             &  2.9589340 & 21\\\\\n\t Oregon               &  0.9396843 & 42\\\\\n\t Pennsylvania         &  3.5977513 & 11\\\\\n\t Rhode Island         &  1.5200933 & 35\\\\\n\t South Carolina       &  4.4753235 &  5\\\\\n\t South Dakota         &  0.9825837 & 41\\\\\n\t Tennessee            &  3.4509357 & 12\\\\\n\t Texas                &  3.2013603 & 16\\\\\n\t Utah                 &  0.7959810 & 45\\\\\n\t Vermont              &  0.3196211 & 51\\\\\n\t Virginia             &  3.1246001 & 18\\\\\n\t Washington           &  1.3829942 & 37\\\\\n\t West Virginia        &  1.4571013 & 36\\\\\n\t Wisconsin            &  1.7056487 & 34\\\\\n\t Wyoming              &  0.8871131 & 43\\\\\n\\end{tabular}\n",
            "text/markdown": "\nA data.frame: 51 × 3\n\n| state &lt;chr&gt; | rate &lt;dbl&gt; | rank &lt;dbl&gt; |\n|---|---|---|\n| Alabama              |  2.8244238 | 23 |\n| Alaska               |  2.6751860 | 27 |\n| Arizona              |  3.6295273 | 10 |\n| Arkansas             |  3.1893901 | 17 |\n| California           |  3.3741383 | 14 |\n| Colorado             |  1.2924531 | 38 |\n| Connecticut          |  2.7139722 | 25 |\n| Delaware             |  4.2319369 |  6 |\n| District of Columbia | 16.4527532 |  1 |\n| Florida              |  3.3980688 | 13 |\n| Georgia              |  3.7903226 |  9 |\n| Hawaii               |  0.5145920 | 49 |\n| Idaho                |  0.7655102 | 46 |\n| Illinois             |  2.8369608 | 22 |\n| Indiana              |  2.1900730 | 31 |\n| Iowa                 |  0.6893484 | 47 |\n| Kansas               |  2.2081106 | 30 |\n| Kentucky             |  2.6732010 | 28 |\n| Louisiana            |  7.7425810 |  2 |\n| Maine                |  0.8280881 | 44 |\n| Maryland             |  5.0748655 |  4 |\n| Massachusetts        |  1.8021791 | 32 |\n| Michigan             |  4.1786225 |  7 |\n| Minnesota            |  0.9992600 | 40 |\n| Mississippi          |  4.0440846 |  8 |\n| Missouri             |  5.3598917 |  3 |\n| Montana              |  1.2128379 | 39 |\n| Nebraska             |  1.7521372 | 33 |\n| Nevada               |  3.1104763 | 19 |\n| New Hampshire        |  0.3798036 | 50 |\n| New Jersey           |  2.7980319 | 24 |\n| New Mexico           |  3.2537239 | 15 |\n| New York             |  2.6679599 | 29 |\n| North Carolina       |  2.9993237 | 20 |\n| North Dakota         |  0.5947151 | 48 |\n| Ohio                 |  2.6871225 | 26 |\n| Oklahoma             |  2.9589340 | 21 |\n| Oregon               |  0.9396843 | 42 |\n| Pennsylvania         |  3.5977513 | 11 |\n| Rhode Island         |  1.5200933 | 35 |\n| South Carolina       |  4.4753235 |  5 |\n| South Dakota         |  0.9825837 | 41 |\n| Tennessee            |  3.4509357 | 12 |\n| Texas                |  3.2013603 | 16 |\n| Utah                 |  0.7959810 | 45 |\n| Vermont              |  0.3196211 | 51 |\n| Virginia             |  3.1246001 | 18 |\n| Washington           |  1.3829942 | 37 |\n| West Virginia        |  1.4571013 | 36 |\n| Wisconsin            |  1.7056487 | 34 |\n| Wyoming              |  0.8871131 | 43 |\n\n",
            "text/html": [
              "<table class=\"dataframe\">\n",
              "<caption>A data.frame: 51 × 3</caption>\n",
              "<thead>\n",
              "\t<tr><th scope=col>state</th><th scope=col>rate</th><th scope=col>rank</th></tr>\n",
              "\t<tr><th scope=col>&lt;chr&gt;</th><th scope=col>&lt;dbl&gt;</th><th scope=col>&lt;dbl&gt;</th></tr>\n",
              "</thead>\n",
              "<tbody>\n",
              "\t<tr><td>Alabama             </td><td> 2.8244238</td><td>23</td></tr>\n",
              "\t<tr><td>Alaska              </td><td> 2.6751860</td><td>27</td></tr>\n",
              "\t<tr><td>Arizona             </td><td> 3.6295273</td><td>10</td></tr>\n",
              "\t<tr><td>Arkansas            </td><td> 3.1893901</td><td>17</td></tr>\n",
              "\t<tr><td>California          </td><td> 3.3741383</td><td>14</td></tr>\n",
              "\t<tr><td>Colorado            </td><td> 1.2924531</td><td>38</td></tr>\n",
              "\t<tr><td>Connecticut         </td><td> 2.7139722</td><td>25</td></tr>\n",
              "\t<tr><td>Delaware            </td><td> 4.2319369</td><td> 6</td></tr>\n",
              "\t<tr><td>District of Columbia</td><td>16.4527532</td><td> 1</td></tr>\n",
              "\t<tr><td>Florida             </td><td> 3.3980688</td><td>13</td></tr>\n",
              "\t<tr><td>Georgia             </td><td> 3.7903226</td><td> 9</td></tr>\n",
              "\t<tr><td>Hawaii              </td><td> 0.5145920</td><td>49</td></tr>\n",
              "\t<tr><td>Idaho               </td><td> 0.7655102</td><td>46</td></tr>\n",
              "\t<tr><td>Illinois            </td><td> 2.8369608</td><td>22</td></tr>\n",
              "\t<tr><td>Indiana             </td><td> 2.1900730</td><td>31</td></tr>\n",
              "\t<tr><td>Iowa                </td><td> 0.6893484</td><td>47</td></tr>\n",
              "\t<tr><td>Kansas              </td><td> 2.2081106</td><td>30</td></tr>\n",
              "\t<tr><td>Kentucky            </td><td> 2.6732010</td><td>28</td></tr>\n",
              "\t<tr><td>Louisiana           </td><td> 7.7425810</td><td> 2</td></tr>\n",
              "\t<tr><td>Maine               </td><td> 0.8280881</td><td>44</td></tr>\n",
              "\t<tr><td>Maryland            </td><td> 5.0748655</td><td> 4</td></tr>\n",
              "\t<tr><td>Massachusetts       </td><td> 1.8021791</td><td>32</td></tr>\n",
              "\t<tr><td>Michigan            </td><td> 4.1786225</td><td> 7</td></tr>\n",
              "\t<tr><td>Minnesota           </td><td> 0.9992600</td><td>40</td></tr>\n",
              "\t<tr><td>Mississippi         </td><td> 4.0440846</td><td> 8</td></tr>\n",
              "\t<tr><td>Missouri            </td><td> 5.3598917</td><td> 3</td></tr>\n",
              "\t<tr><td>Montana             </td><td> 1.2128379</td><td>39</td></tr>\n",
              "\t<tr><td>Nebraska            </td><td> 1.7521372</td><td>33</td></tr>\n",
              "\t<tr><td>Nevada              </td><td> 3.1104763</td><td>19</td></tr>\n",
              "\t<tr><td>New Hampshire       </td><td> 0.3798036</td><td>50</td></tr>\n",
              "\t<tr><td>New Jersey          </td><td> 2.7980319</td><td>24</td></tr>\n",
              "\t<tr><td>New Mexico          </td><td> 3.2537239</td><td>15</td></tr>\n",
              "\t<tr><td>New York            </td><td> 2.6679599</td><td>29</td></tr>\n",
              "\t<tr><td>North Carolina      </td><td> 2.9993237</td><td>20</td></tr>\n",
              "\t<tr><td>North Dakota        </td><td> 0.5947151</td><td>48</td></tr>\n",
              "\t<tr><td>Ohio                </td><td> 2.6871225</td><td>26</td></tr>\n",
              "\t<tr><td>Oklahoma            </td><td> 2.9589340</td><td>21</td></tr>\n",
              "\t<tr><td>Oregon              </td><td> 0.9396843</td><td>42</td></tr>\n",
              "\t<tr><td>Pennsylvania        </td><td> 3.5977513</td><td>11</td></tr>\n",
              "\t<tr><td>Rhode Island        </td><td> 1.5200933</td><td>35</td></tr>\n",
              "\t<tr><td>South Carolina      </td><td> 4.4753235</td><td> 5</td></tr>\n",
              "\t<tr><td>South Dakota        </td><td> 0.9825837</td><td>41</td></tr>\n",
              "\t<tr><td>Tennessee           </td><td> 3.4509357</td><td>12</td></tr>\n",
              "\t<tr><td>Texas               </td><td> 3.2013603</td><td>16</td></tr>\n",
              "\t<tr><td>Utah                </td><td> 0.7959810</td><td>45</td></tr>\n",
              "\t<tr><td>Vermont             </td><td> 0.3196211</td><td>51</td></tr>\n",
              "\t<tr><td>Virginia            </td><td> 3.1246001</td><td>18</td></tr>\n",
              "\t<tr><td>Washington          </td><td> 1.3829942</td><td>37</td></tr>\n",
              "\t<tr><td>West Virginia       </td><td> 1.4571013</td><td>36</td></tr>\n",
              "\t<tr><td>Wisconsin           </td><td> 1.7056487</td><td>34</td></tr>\n",
              "\t<tr><td>Wyoming             </td><td> 0.8871131</td><td>43</td></tr>\n",
              "</tbody>\n",
              "</table>\n"
            ]
          },
          "metadata": {
            "tags": []
          }
        }
      ]
    },
    {
      "cell_type": "code",
      "metadata": {
        "colab": {
          "base_uri": "https://localhost:8080/",
          "height": 34
        },
        "id": "hrSZ1RRslECM",
        "outputId": "953b4b7d-e8da-4d98-b4e1-e74ef5ab5def"
      },
      "source": [
        "murders$rank"
      ],
      "execution_count": 40,
      "outputs": [
        {
          "output_type": "display_data",
          "data": {
            "text/plain": [
              "NULL"
            ]
          },
          "metadata": {
            "tags": []
          }
        }
      ]
    },
    {
      "cell_type": "code",
      "metadata": {
        "id": "SNYFbaEMBNrL"
      },
      "source": [
        "murders %>% select(state, region, rate) %>% filter(rate <= 0.71)"
      ],
      "execution_count": null,
      "outputs": []
    },
    {
      "cell_type": "code",
      "metadata": {
        "id": "0hOsY3MXzg26"
      },
      "source": [
        "s <- murders %>%\n",
        "filter(rate <= 2) %>%\n",
        "summarize(average = mean(rate), standard_deviation = sd(rate))\n",
        "s"
      ],
      "execution_count": null,
      "outputs": []
    },
    {
      "cell_type": "code",
      "metadata": {
        "id": "-Pff8yve0Bm1"
      },
      "source": [
        "s$average\n",
        "s$standard_deviation"
      ],
      "execution_count": null,
      "outputs": []
    },
    {
      "cell_type": "code",
      "metadata": {
        "id": "hNhLdGsd0KH5",
        "colab": {
          "base_uri": "https://localhost:8080/",
          "height": 123
        },
        "outputId": "ae924d2c-3c28-454a-f53c-2341b06bf7b9"
      },
      "source": [
        "rates <- murders %>%\n",
        "filter(rate <= 2) %>%\n",
        "summarize(median = median(rate), minimum = min(rate),\n",
        "maximum = max(rate))\n",
        "rates"
      ],
      "execution_count": 41,
      "outputs": [
        {
          "output_type": "display_data",
          "data": {
            "text/plain": [
              "  median   minimum   maximum \n",
              "1 0.961134 0.3196211 1.802179"
            ],
            "text/latex": "A data.frame: 1 × 3\n\\begin{tabular}{lll}\n median & minimum & maximum\\\\\n <dbl> & <dbl> & <dbl>\\\\\n\\hline\n\t 0.961134 & 0.3196211 & 1.802179\\\\\n\\end{tabular}\n",
            "text/markdown": "\nA data.frame: 1 × 3\n\n| median &lt;dbl&gt; | minimum &lt;dbl&gt; | maximum &lt;dbl&gt; |\n|---|---|---|\n| 0.961134 | 0.3196211 | 1.802179 |\n\n",
            "text/html": [
              "<table class=\"dataframe\">\n",
              "<caption>A data.frame: 1 × 3</caption>\n",
              "<thead>\n",
              "\t<tr><th scope=col>median</th><th scope=col>minimum</th><th scope=col>maximum</th></tr>\n",
              "\t<tr><th scope=col>&lt;dbl&gt;</th><th scope=col>&lt;dbl&gt;</th><th scope=col>&lt;dbl&gt;</th></tr>\n",
              "</thead>\n",
              "<tbody>\n",
              "\t<tr><td>0.961134</td><td>0.3196211</td><td>1.802179</td></tr>\n",
              "</tbody>\n",
              "</table>\n"
            ]
          },
          "metadata": {
            "tags": []
          }
        }
      ]
    },
    {
      "cell_type": "code",
      "metadata": {
        "id": "KHOS218t0dlD",
        "colab": {
          "base_uri": "https://localhost:8080/",
          "height": 157
        },
        "outputId": "d12cdf41-4a24-4668-c06f-3d714bff9476"
      },
      "source": [
        "us_murder_rate <- murders %>%\n",
        "  summarize(rate = sum(total) / sum(population) * 100000)\n",
        "us_murder_rate"
      ],
      "execution_count": 42,
      "outputs": [
        {
          "output_type": "display_data",
          "data": {
            "text/plain": [
              "  rate    \n",
              "1 3.034555"
            ],
            "text/latex": "A data.frame: 1 × 1\n\\begin{tabular}{l}\n rate\\\\\n <dbl>\\\\\n\\hline\n\t 3.034555\\\\\n\\end{tabular}\n",
            "text/markdown": "\nA data.frame: 1 × 1\n\n| rate &lt;dbl&gt; |\n|---|\n| 3.034555 |\n\n",
            "text/html": [
              "<table class=\"dataframe\">\n",
              "<caption>A data.frame: 1 × 1</caption>\n",
              "<thead>\n",
              "\t<tr><th scope=col>rate</th></tr>\n",
              "\t<tr><th scope=col>&lt;dbl&gt;</th></tr>\n",
              "</thead>\n",
              "<tbody>\n",
              "\t<tr><td>3.034555</td></tr>\n",
              "</tbody>\n",
              "</table>\n"
            ]
          },
          "metadata": {
            "tags": []
          }
        }
      ]
    },
    {
      "cell_type": "code",
      "metadata": {
        "colab": {
          "base_uri": "https://localhost:8080/",
          "height": 34
        },
        "id": "hTs879kh0vLW",
        "outputId": "ad006c28-33ca-4cab-b0cf-2e812789a710"
      },
      "source": [
        "class(us_murder_rate)"
      ],
      "execution_count": 43,
      "outputs": [
        {
          "output_type": "display_data",
          "data": {
            "text/plain": [
              "[1] \"data.frame\""
            ],
            "text/latex": "'data.frame'",
            "text/markdown": "'data.frame'",
            "text/html": [
              "'data.frame'"
            ]
          },
          "metadata": {
            "tags": []
          }
        }
      ]
    },
    {
      "cell_type": "code",
      "metadata": {
        "colab": {
          "base_uri": "https://localhost:8080/",
          "height": 34
        },
        "id": "B5rgDZFol4mR",
        "outputId": "e3ccca1f-8de8-4b23-adfa-ef8c915cccbe"
      },
      "source": [
        "us_murder_rate$rate"
      ],
      "execution_count": 44,
      "outputs": [
        {
          "output_type": "display_data",
          "data": {
            "text/plain": [
              "[1] 3.034555"
            ],
            "text/latex": "3.03455486317059",
            "text/markdown": "3.03455486317059",
            "text/html": [
              "3.03455486317059"
            ]
          },
          "metadata": {
            "tags": []
          }
        }
      ]
    },
    {
      "cell_type": "code",
      "metadata": {
        "colab": {
          "base_uri": "https://localhost:8080/",
          "height": 34
        },
        "id": "Gtloyr5E0sSu",
        "outputId": "0b0f6b52-5afa-47f3-c145-856c1857f9b9"
      },
      "source": [
        "us_murder_rate %>% pull(rate)"
      ],
      "execution_count": 45,
      "outputs": [
        {
          "output_type": "display_data",
          "data": {
            "text/plain": [
              "[1] 3.034555"
            ],
            "text/latex": "3.03455486317059",
            "text/markdown": "3.03455486317059",
            "text/html": [
              "3.03455486317059"
            ]
          },
          "metadata": {
            "tags": []
          }
        }
      ]
    },
    {
      "cell_type": "code",
      "metadata": {
        "id": "DEUbFXT-07bN",
        "colab": {
          "base_uri": "https://localhost:8080/",
          "height": 34
        },
        "outputId": "a4442552-56a2-4626-bbc7-77ce35a35cd0"
      },
      "source": [
        "murders %>%\n",
        "  summarize(rate = sum(total) / sum(population) * 100000) %>%\n",
        "    pull(rate)"
      ],
      "execution_count": 48,
      "outputs": [
        {
          "output_type": "display_data",
          "data": {
            "text/plain": [
              "[1] 3.034555"
            ],
            "text/latex": "3.03455486317059",
            "text/markdown": "3.03455486317059",
            "text/html": [
              "3.03455486317059"
            ]
          },
          "metadata": {
            "tags": []
          }
        }
      ]
    },
    {
      "cell_type": "markdown",
      "metadata": {
        "id": "iTzC4h2NAuY3"
      },
      "source": [
        "A qualquer momento pode-se recarregar os dados originais utilizando `data`"
      ]
    },
    {
      "cell_type": "code",
      "metadata": {
        "id": "JITVtb4F1C6J",
        "colab": {
          "base_uri": "https://localhost:8080/",
          "height": 212
        },
        "outputId": "2fa6c8c2-d7ef-4b51-cd50-9e1a96905d18"
      },
      "source": [
        "data(murders)\n",
        "murders <- mutate(murders, rate = total / population * 100000, rank = rank(-rate))\n",
        "group <- murders %>% group_by(region) %>% summarize(median_rate = median(rate))\n",
        "group"
      ],
      "execution_count": 49,
      "outputs": [
        {
          "output_type": "display_data",
          "data": {
            "text/plain": [
              "  region        median_rate\n",
              "1 Northeast     1.802179   \n",
              "2 South         3.398069   \n",
              "3 North Central 1.971105   \n",
              "4 West          1.292453   "
            ],
            "text/latex": "A tibble: 4 × 2\n\\begin{tabular}{r|ll}\n  & region & median\\_rate\\\\\n  & <fct> & <dbl>\\\\\n\\hline\n\t1 & Northeast     & 1.802179\\\\\n\t2 & South         & 3.398069\\\\\n\t3 & North Central & 1.971105\\\\\n\t4 & West          & 1.292453\\\\\n\\end{tabular}\n",
            "text/markdown": "\nA tibble: 4 × 2\n\n| <!--/--> | region &lt;fct&gt; | median_rate &lt;dbl&gt; |\n|---|---|---|\n| 1 | Northeast     | 1.802179 |\n| 2 | South         | 3.398069 |\n| 3 | North Central | 1.971105 |\n| 4 | West          | 1.292453 |\n\n",
            "text/html": [
              "<table class=\"dataframe\">\n",
              "<caption>A tibble: 4 × 2</caption>\n",
              "<thead>\n",
              "\t<tr><th></th><th scope=col>region</th><th scope=col>median_rate</th></tr>\n",
              "\t<tr><th></th><th scope=col>&lt;fct&gt;</th><th scope=col>&lt;dbl&gt;</th></tr>\n",
              "</thead>\n",
              "<tbody>\n",
              "\t<tr><th scope=row>1</th><td>Northeast    </td><td>1.802179</td></tr>\n",
              "\t<tr><th scope=row>2</th><td>South        </td><td>3.398069</td></tr>\n",
              "\t<tr><th scope=row>3</th><td>North Central</td><td>1.971105</td></tr>\n",
              "\t<tr><th scope=row>4</th><td>West         </td><td>1.292453</td></tr>\n",
              "</tbody>\n",
              "</table>\n"
            ]
          },
          "metadata": {
            "tags": []
          }
        }
      ]
    },
    {
      "cell_type": "code",
      "metadata": {
        "id": "c4xAJIPduytX",
        "colab": {
          "base_uri": "https://localhost:8080/",
          "height": 271
        },
        "outputId": "4e41cf73-0930-42a5-bbba-60d6bdd69081"
      },
      "source": [
        "murders %>%\n",
        "  arrange(desc(population)) %>%\n",
        "    head()"
      ],
      "execution_count": 51,
      "outputs": [
        {
          "output_type": "display_data",
          "data": {
            "text/plain": [
              "  state        abb region        population total rate     rank\n",
              "1 California   CA  West          37253956   1257  3.374138 14  \n",
              "2 Texas        TX  South         25145561    805  3.201360 16  \n",
              "3 Florida      FL  South         19687653    669  3.398069 13  \n",
              "4 New York     NY  Northeast     19378102    517  2.667960 29  \n",
              "5 Illinois     IL  North Central 12830632    364  2.836961 22  \n",
              "6 Pennsylvania PA  Northeast     12702379    457  3.597751 11  "
            ],
            "text/latex": "A data.frame: 6 × 7\n\\begin{tabular}{r|lllllll}\n  & state & abb & region & population & total & rate & rank\\\\\n  & <chr> & <chr> & <fct> & <dbl> & <dbl> & <dbl> & <dbl>\\\\\n\\hline\n\t1 & California   & CA & West          & 37253956 & 1257 & 3.374138 & 14\\\\\n\t2 & Texas        & TX & South         & 25145561 &  805 & 3.201360 & 16\\\\\n\t3 & Florida      & FL & South         & 19687653 &  669 & 3.398069 & 13\\\\\n\t4 & New York     & NY & Northeast     & 19378102 &  517 & 2.667960 & 29\\\\\n\t5 & Illinois     & IL & North Central & 12830632 &  364 & 2.836961 & 22\\\\\n\t6 & Pennsylvania & PA & Northeast     & 12702379 &  457 & 3.597751 & 11\\\\\n\\end{tabular}\n",
            "text/markdown": "\nA data.frame: 6 × 7\n\n| <!--/--> | state &lt;chr&gt; | abb &lt;chr&gt; | region &lt;fct&gt; | population &lt;dbl&gt; | total &lt;dbl&gt; | rate &lt;dbl&gt; | rank &lt;dbl&gt; |\n|---|---|---|---|---|---|---|---|\n| 1 | California   | CA | West          | 37253956 | 1257 | 3.374138 | 14 |\n| 2 | Texas        | TX | South         | 25145561 |  805 | 3.201360 | 16 |\n| 3 | Florida      | FL | South         | 19687653 |  669 | 3.398069 | 13 |\n| 4 | New York     | NY | Northeast     | 19378102 |  517 | 2.667960 | 29 |\n| 5 | Illinois     | IL | North Central | 12830632 |  364 | 2.836961 | 22 |\n| 6 | Pennsylvania | PA | Northeast     | 12702379 |  457 | 3.597751 | 11 |\n\n",
            "text/html": [
              "<table class=\"dataframe\">\n",
              "<caption>A data.frame: 6 × 7</caption>\n",
              "<thead>\n",
              "\t<tr><th></th><th scope=col>state</th><th scope=col>abb</th><th scope=col>region</th><th scope=col>population</th><th scope=col>total</th><th scope=col>rate</th><th scope=col>rank</th></tr>\n",
              "\t<tr><th></th><th scope=col>&lt;chr&gt;</th><th scope=col>&lt;chr&gt;</th><th scope=col>&lt;fct&gt;</th><th scope=col>&lt;dbl&gt;</th><th scope=col>&lt;dbl&gt;</th><th scope=col>&lt;dbl&gt;</th><th scope=col>&lt;dbl&gt;</th></tr>\n",
              "</thead>\n",
              "<tbody>\n",
              "\t<tr><th scope=row>1</th><td>California  </td><td>CA</td><td>West         </td><td>37253956</td><td>1257</td><td>3.374138</td><td>14</td></tr>\n",
              "\t<tr><th scope=row>2</th><td>Texas       </td><td>TX</td><td>South        </td><td>25145561</td><td> 805</td><td>3.201360</td><td>16</td></tr>\n",
              "\t<tr><th scope=row>3</th><td>Florida     </td><td>FL</td><td>South        </td><td>19687653</td><td> 669</td><td>3.398069</td><td>13</td></tr>\n",
              "\t<tr><th scope=row>4</th><td>New York    </td><td>NY</td><td>Northeast    </td><td>19378102</td><td> 517</td><td>2.667960</td><td>29</td></tr>\n",
              "\t<tr><th scope=row>5</th><td>Illinois    </td><td>IL</td><td>North Central</td><td>12830632</td><td> 364</td><td>2.836961</td><td>22</td></tr>\n",
              "\t<tr><th scope=row>6</th><td>Pennsylvania</td><td>PA</td><td>Northeast    </td><td>12702379</td><td> 457</td><td>3.597751</td><td>11</td></tr>\n",
              "</tbody>\n",
              "</table>\n"
            ]
          },
          "metadata": {
            "tags": []
          }
        }
      ]
    },
    {
      "cell_type": "code",
      "metadata": {
        "id": "2uNMS_VK25vm",
        "colab": {
          "base_uri": "https://localhost:8080/",
          "height": 271
        },
        "outputId": "1dec5e15-384d-4811-c78a-de58b3dbd0c9"
      },
      "source": [
        "murders %>%\n",
        "  arrange(region, desc(rate)) %>%\n",
        "    head()"
      ],
      "execution_count": 53,
      "outputs": [
        {
          "output_type": "display_data",
          "data": {
            "text/plain": [
              "  state         abb region    population total rate     rank\n",
              "1 Pennsylvania  PA  Northeast 12702379   457   3.597751 11  \n",
              "2 New Jersey    NJ  Northeast  8791894   246   2.798032 24  \n",
              "3 Connecticut   CT  Northeast  3574097    97   2.713972 25  \n",
              "4 New York      NY  Northeast 19378102   517   2.667960 29  \n",
              "5 Massachusetts MA  Northeast  6547629   118   1.802179 32  \n",
              "6 Rhode Island  RI  Northeast  1052567    16   1.520093 35  "
            ],
            "text/latex": "A data.frame: 6 × 7\n\\begin{tabular}{r|lllllll}\n  & state & abb & region & population & total & rate & rank\\\\\n  & <chr> & <chr> & <fct> & <dbl> & <dbl> & <dbl> & <dbl>\\\\\n\\hline\n\t1 & Pennsylvania  & PA & Northeast & 12702379 & 457 & 3.597751 & 11\\\\\n\t2 & New Jersey    & NJ & Northeast &  8791894 & 246 & 2.798032 & 24\\\\\n\t3 & Connecticut   & CT & Northeast &  3574097 &  97 & 2.713972 & 25\\\\\n\t4 & New York      & NY & Northeast & 19378102 & 517 & 2.667960 & 29\\\\\n\t5 & Massachusetts & MA & Northeast &  6547629 & 118 & 1.802179 & 32\\\\\n\t6 & Rhode Island  & RI & Northeast &  1052567 &  16 & 1.520093 & 35\\\\\n\\end{tabular}\n",
            "text/markdown": "\nA data.frame: 6 × 7\n\n| <!--/--> | state &lt;chr&gt; | abb &lt;chr&gt; | region &lt;fct&gt; | population &lt;dbl&gt; | total &lt;dbl&gt; | rate &lt;dbl&gt; | rank &lt;dbl&gt; |\n|---|---|---|---|---|---|---|---|\n| 1 | Pennsylvania  | PA | Northeast | 12702379 | 457 | 3.597751 | 11 |\n| 2 | New Jersey    | NJ | Northeast |  8791894 | 246 | 2.798032 | 24 |\n| 3 | Connecticut   | CT | Northeast |  3574097 |  97 | 2.713972 | 25 |\n| 4 | New York      | NY | Northeast | 19378102 | 517 | 2.667960 | 29 |\n| 5 | Massachusetts | MA | Northeast |  6547629 | 118 | 1.802179 | 32 |\n| 6 | Rhode Island  | RI | Northeast |  1052567 |  16 | 1.520093 | 35 |\n\n",
            "text/html": [
              "<table class=\"dataframe\">\n",
              "<caption>A data.frame: 6 × 7</caption>\n",
              "<thead>\n",
              "\t<tr><th></th><th scope=col>state</th><th scope=col>abb</th><th scope=col>region</th><th scope=col>population</th><th scope=col>total</th><th scope=col>rate</th><th scope=col>rank</th></tr>\n",
              "\t<tr><th></th><th scope=col>&lt;chr&gt;</th><th scope=col>&lt;chr&gt;</th><th scope=col>&lt;fct&gt;</th><th scope=col>&lt;dbl&gt;</th><th scope=col>&lt;dbl&gt;</th><th scope=col>&lt;dbl&gt;</th><th scope=col>&lt;dbl&gt;</th></tr>\n",
              "</thead>\n",
              "<tbody>\n",
              "\t<tr><th scope=row>1</th><td>Pennsylvania </td><td>PA</td><td>Northeast</td><td>12702379</td><td>457</td><td>3.597751</td><td>11</td></tr>\n",
              "\t<tr><th scope=row>2</th><td>New Jersey   </td><td>NJ</td><td>Northeast</td><td> 8791894</td><td>246</td><td>2.798032</td><td>24</td></tr>\n",
              "\t<tr><th scope=row>3</th><td>Connecticut  </td><td>CT</td><td>Northeast</td><td> 3574097</td><td> 97</td><td>2.713972</td><td>25</td></tr>\n",
              "\t<tr><th scope=row>4</th><td>New York     </td><td>NY</td><td>Northeast</td><td>19378102</td><td>517</td><td>2.667960</td><td>29</td></tr>\n",
              "\t<tr><th scope=row>5</th><td>Massachusetts</td><td>MA</td><td>Northeast</td><td> 6547629</td><td>118</td><td>1.802179</td><td>32</td></tr>\n",
              "\t<tr><th scope=row>6</th><td>Rhode Island </td><td>RI</td><td>Northeast</td><td> 1052567</td><td> 16</td><td>1.520093</td><td>35</td></tr>\n",
              "</tbody>\n",
              "</table>\n"
            ]
          },
          "metadata": {
            "tags": []
          }
        }
      ]
    },
    {
      "cell_type": "code",
      "metadata": {
        "id": "XOxRtagV230o"
      },
      "source": [
        "murders %>% top_n(5, rate)"
      ],
      "execution_count": null,
      "outputs": []
    },
    {
      "cell_type": "markdown",
      "metadata": {
        "id": "gwnZBFf324P2"
      },
      "source": [
        "## Respondendo algumas perguntas sobre os dados."
      ]
    },
    {
      "cell_type": "markdown",
      "metadata": {
        "id": "Klp_cxYd2Mow"
      },
      "source": [
        "Qual estado é mais violento, New York ou Washington?"
      ]
    },
    {
      "cell_type": "code",
      "metadata": {
        "colab": {
          "base_uri": "https://localhost:8080/",
          "height": 159
        },
        "id": "wmdf3Rw02WTD",
        "outputId": "3a8db9a2-d923-4fab-ea90-0d840a44e343"
      },
      "source": [
        "murders %>%\n",
        "  filter(state %in% c(\"New York\",\"Washington\")) %>%\n",
        "    select(state, rate)"
      ],
      "execution_count": null,
      "outputs": [
        {
          "output_type": "display_data",
          "data": {
            "text/plain": [
              "  state      rate    \n",
              "1 New York   2.667960\n",
              "2 Washington 1.382994"
            ],
            "text/latex": "A data.frame: 2 × 2\n\\begin{tabular}{ll}\n state & rate\\\\\n <chr> & <dbl>\\\\\n\\hline\n\t New York   & 2.667960\\\\\n\t Washington & 1.382994\\\\\n\\end{tabular}\n",
            "text/markdown": "\nA data.frame: 2 × 2\n\n| state &lt;chr&gt; | rate &lt;dbl&gt; |\n|---|---|\n| New York   | 2.667960 |\n| Washington | 1.382994 |\n\n",
            "text/html": [
              "<table class=\"dataframe\">\n",
              "<caption>A data.frame: 2 × 2</caption>\n",
              "<thead>\n",
              "\t<tr><th scope=col>state</th><th scope=col>rate</th></tr>\n",
              "\t<tr><th scope=col>&lt;chr&gt;</th><th scope=col>&lt;dbl&gt;</th></tr>\n",
              "</thead>\n",
              "<tbody>\n",
              "\t<tr><td>New York  </td><td>2.667960</td></tr>\n",
              "\t<tr><td>Washington</td><td>1.382994</td></tr>\n",
              "</tbody>\n",
              "</table>\n"
            ]
          },
          "metadata": {
            "tags": []
          }
        }
      ]
    },
    {
      "cell_type": "markdown",
      "metadata": {
        "id": "77C6uSQo3kzH"
      },
      "source": [
        "Selecionando a região sul (South) e os estados que iniciam com D ou M e selecione os que possuem taxas de morte maiores de 5 selecionando na exibição o nome do estado, a população e a taxa de mortes ordenando do maior para o menor (por taxa de mortes). [Dica](https://sebastiansauer.github.io/dplyr_filter/)"
      ]
    },
    {
      "cell_type": "code",
      "metadata": {
        "colab": {
          "base_uri": "https://localhost:8080/",
          "height": 153
        },
        "id": "JpFyql6k3Da3",
        "outputId": "eb3dec64-fd7a-4358-c2bf-9668c0e782f7"
      },
      "source": [
        "library(stringr)\n",
        "murders %>%\n",
        "  filter(region==\"South\" & rate>=5 & (str_detect(state, \"^D\") | str_detect(state, \"^M\"))) %>%\n",
        "    select(state, region, population, rate) %>%\n",
        "      arrange(desc(rate))"
      ],
      "execution_count": 55,
      "outputs": [
        {
          "output_type": "display_data",
          "data": {
            "text/plain": [
              "  state                region population rate     \n",
              "1 District of Columbia South   601723    16.452753\n",
              "2 Maryland             South  5773552     5.074866"
            ],
            "text/latex": "A data.frame: 2 × 4\n\\begin{tabular}{llll}\n state & region & population & rate\\\\\n <chr> & <fct> & <dbl> & <dbl>\\\\\n\\hline\n\t District of Columbia & South &  601723 & 16.452753\\\\\n\t Maryland             & South & 5773552 &  5.074866\\\\\n\\end{tabular}\n",
            "text/markdown": "\nA data.frame: 2 × 4\n\n| state &lt;chr&gt; | region &lt;fct&gt; | population &lt;dbl&gt; | rate &lt;dbl&gt; |\n|---|---|---|---|\n| District of Columbia | South |  601723 | 16.452753 |\n| Maryland             | South | 5773552 |  5.074866 |\n\n",
            "text/html": [
              "<table class=\"dataframe\">\n",
              "<caption>A data.frame: 2 × 4</caption>\n",
              "<thead>\n",
              "\t<tr><th scope=col>state</th><th scope=col>region</th><th scope=col>population</th><th scope=col>rate</th></tr>\n",
              "\t<tr><th scope=col>&lt;chr&gt;</th><th scope=col>&lt;fct&gt;</th><th scope=col>&lt;dbl&gt;</th><th scope=col>&lt;dbl&gt;</th></tr>\n",
              "</thead>\n",
              "<tbody>\n",
              "\t<tr><td>District of Columbia</td><td>South</td><td> 601723</td><td>16.452753</td></tr>\n",
              "\t<tr><td>Maryland            </td><td>South</td><td>5773552</td><td> 5.074866</td></tr>\n",
              "</tbody>\n",
              "</table>\n"
            ]
          },
          "metadata": {
            "tags": []
          }
        }
      ]
    },
    {
      "cell_type": "markdown",
      "metadata": {
        "id": "75KGFaKQwVhg"
      },
      "source": [
        "# Gráficos"
      ]
    },
    {
      "cell_type": "code",
      "metadata": {
        "colab": {
          "base_uri": "https://localhost:8080/",
          "height": 437
        },
        "id": "4-yzFmutwU8Q",
        "outputId": "c187a6ee-ce33-4597-b130-bac4c53034ac"
      },
      "source": [
        "x <- murders$population / 10^6\n",
        "y <- murders$total\n",
        "plot(x,y)"
      ],
      "execution_count": null,
      "outputs": [
        {
          "output_type": "display_data",
          "data": {
            "image/png": "[encoded data removed]",
            "text/plain": [
              "plot without title"
            ]
          },
          "metadata": {
            "tags": [],
            "image/png": {
              "width": 420,
              "height": 420
            }
          }
        }
      ]
    },
    {
      "cell_type": "code",
      "metadata": {
        "colab": {
          "base_uri": "https://localhost:8080/",
          "height": 437
        },
        "id": "cKWYA00zwr2W",
        "outputId": "37995bf6-6b88-4b25-cf82-648dbfa1ac98"
      },
      "source": [
        "with(murders, plot(population, total))"
      ],
      "execution_count": null,
      "outputs": [
        {
          "output_type": "display_data",
          "data": {
            "image/png": "[encoded data removed]",
            "text/plain": [
              "plot without title"
            ]
          },
          "metadata": {
            "tags": [],
            "image/png": {
              "width": 420,
              "height": 420
            }
          }
        }
      ]
    },
    {
      "cell_type": "code",
      "metadata": {
        "colab": {
          "base_uri": "https://localhost:8080/",
          "height": 437
        },
        "id": "28E93JqAw3Q_",
        "outputId": "9f94fb7a-1156-4d44-8675-8bd5e2327091"
      },
      "source": [
        "x <- with(murders, total / population * 100000)\n",
        "hist(x)"
      ],
      "execution_count": null,
      "outputs": [
        {
          "output_type": "display_data",
          "data": {
            "image/png": "[encoded data removed]",
            "text/plain": [
              "Plot with title “Histogram of x”"
            ]
          },
          "metadata": {
            "tags": [],
            "image/png": {
              "width": 420,
              "height": 420
            }
          }
        }
      ]
    },
    {
      "cell_type": "markdown",
      "metadata": {
        "id": "FVbWqqVsyLJZ"
      },
      "source": [
        "#Gráficos com `ggplot`\n",
        "\n",
        "Para construir gráficos mais complexos e interessantes utiliza-se as biblioteca ggplot, embora o D3.js seja mais flexível e poderoso que o R o mesmo demora mais tempo para gerar um gráfico (plot). A bliblioteca dplyr servirá para realizamos algumas consultas no dataset."
      ]
    },
    {
      "cell_type": "code",
      "metadata": {
        "id": "osz3zCz5xFge"
      },
      "source": [
        "library(dplyr)\n",
        "library(ggplot2)"
      ],
      "execution_count": null,
      "outputs": []
    },
    {
      "cell_type": "markdown",
      "metadata": {
        "id": "P_hPJPZ6yyjF"
      },
      "source": [
        "Os elementos principais para se utilizar o ggplot são:\n",
        "- Dados\n",
        "- Geometria: qual a forma dos dados\n",
        "- Aesthetic mapping (mapeamento estético): legendas, elementos gráficos, eixo, ..."
      ]
    },
    {
      "cell_type": "code",
      "metadata": {
        "colab": {
          "base_uri": "https://localhost:8080/",
          "height": 437
        },
        "id": "cCxifAfpyx67",
        "outputId": "c1623dd5-ab3f-46e8-82e7-7ee4f976e443"
      },
      "source": [
        "murders %>% ggplot()"
      ],
      "execution_count": null,
      "outputs": [
        {
          "output_type": "display_data",
          "data": {
            "image/png": "[encoded data removed]",
            "text/plain": [
              "plot without title"
            ]
          },
          "metadata": {
            "tags": [],
            "image/png": {
              "width": 420,
              "height": 420
            }
          }
        }
      ]
    },
    {
      "cell_type": "markdown",
      "metadata": {
        "id": "KCYixsLlzWgw"
      },
      "source": [
        ""
      ]
    },
    {
      "cell_type": "code",
      "metadata": {
        "colab": {
          "base_uri": "https://localhost:8080/",
          "height": 437
        },
        "id": "NI__JhP_zkTp",
        "outputId": "c2b3159c-d348-4ef1-b254-6ad2b6c280c6"
      },
      "source": [
        "murders %>% ggplot() +\n",
        "geom_point(aes(x = population/10^6, y = total)) + geom_text(aes(population/10^6, total, label = abb), nudge_x = 1.5) + geom_text(aes(x = 10, y = 800, label = \"Hello there!\"))+ xlab(\"Populations in millions (log scale)\") + ylab(\"Total number of murders (log scale)\") + ggtitle(\"US Gun Murders in 2010\")"
      ],
      "execution_count": null,
      "outputs": [
        {
          "output_type": "display_data",
          "data": {
            "image/png": "[encoded data removed]",
            "text/plain": [
              "plot without title"
            ]
          },
          "metadata": {
            "tags": [],
            "image/png": {
              "width": 420,
              "height": 420
            }
          }
        }
      ]
    }
  ]
}